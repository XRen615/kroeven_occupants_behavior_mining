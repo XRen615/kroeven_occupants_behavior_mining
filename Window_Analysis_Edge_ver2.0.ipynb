{
 "cells": [
  {
   "cell_type": "markdown",
   "metadata": {},
   "source": [
    "Window_Analysis_Edge_ver2.0"
   ]
  },
  {
   "cell_type": "code",
   "execution_count": 697,
   "metadata": {
    "collapsed": false
   },
   "outputs": [],
   "source": [
    "import matplotlib.pyplot as plt\n",
    "%matplotlib inline\n",
    "import numpy as np\n",
    "import pandas as pd\n",
    "import seaborn as sns\n",
    "from sklearn import preprocessing"
   ]
  },
  {
   "cell_type": "code",
   "execution_count": 698,
   "metadata": {
    "collapsed": false,
    "scrolled": true
   },
   "outputs": [],
   "source": [
    "Behav = pd.read_csv('/Users/xinyuyangren/Documents/TU:e_Year2/Thesis/Aramis_Data_Warehouse/Behavior_Study/1000_Behav.csv')\n",
    "Behav = Behav.dropna()\n",
    "\n",
    "#for 5,8,7,9 to rename br1 to br3\n",
    "\n",
    "#Behav.rename(columns={'t_br1':'t_br3','rh_br1':'rh_br3','co2_br1':'co2_br3','con_br1':'con_br3','wc_br1':'wc_br3'}, inplace=True)"
   ]
  },
  {
   "cell_type": "code",
   "execution_count": 699,
   "metadata": {
    "collapsed": false
   },
   "outputs": [],
   "source": [
    "# Remap string t and f to 1 and 0, for the consequent classifying\n",
    "\n",
    "def w_remap(x):\n",
    "    if x == 't':\n",
    "        x = 1\n",
    "    else:\n",
    "        x = 0\n",
    "    return x\n",
    "\n",
    "for col in ['wc_lr', 'wc_kitchen', 'wc_br3', 'wc_br2', 'wc_attic']:\n",
    "    w = Behav[col].apply(w_remap)\n",
    "    Behav[col] = w"
   ]
  },
  {
   "cell_type": "code",
   "execution_count": 700,
   "metadata": {
    "collapsed": true
   },
   "outputs": [],
   "source": [
    "#generate month/hour attribute from datetime string\n",
    "Behav.dt = pd.to_datetime(Behav.dt)\n",
    "t = pd.DatetimeIndex(Behav.dt)\n",
    "hr = t.hour\n",
    "Behav['HourOfDay'] = hr\n",
    "month = t.month\n",
    "Behav['Month'] = month\n",
    "dt = Behav.pop('dt')"
   ]
  },
  {
   "cell_type": "code",
   "execution_count": 701,
   "metadata": {
    "collapsed": false
   },
   "outputs": [
    {
     "data": {
      "text/html": [
       "<div>\n",
       "<table border=\"1\" class=\"dataframe\">\n",
       "  <thead>\n",
       "    <tr style=\"text-align: right;\">\n",
       "      <th></th>\n",
       "      <th>t_lr</th>\n",
       "      <th>rh_lr</th>\n",
       "      <th>co2_lr</th>\n",
       "      <th>con_lr</th>\n",
       "      <th>t_br3</th>\n",
       "      <th>rh_br3</th>\n",
       "      <th>co2_br3</th>\n",
       "      <th>con_br3</th>\n",
       "      <th>t_br2</th>\n",
       "      <th>rh_br2</th>\n",
       "      <th>...</th>\n",
       "      <th>wc_kitchen</th>\n",
       "      <th>wc_br3</th>\n",
       "      <th>wc_br2</th>\n",
       "      <th>wc_attic</th>\n",
       "      <th>avg_windspeed</th>\n",
       "      <th>avg_irradiation</th>\n",
       "      <th>avg_rh</th>\n",
       "      <th>avg_t</th>\n",
       "      <th>HourOfDay</th>\n",
       "      <th>Month</th>\n",
       "    </tr>\n",
       "  </thead>\n",
       "  <tbody>\n",
       "    <tr>\n",
       "      <th>count</th>\n",
       "      <td>191095.000000</td>\n",
       "      <td>191095.000000</td>\n",
       "      <td>191095.000000</td>\n",
       "      <td>191095.000000</td>\n",
       "      <td>191095.000000</td>\n",
       "      <td>191095.000000</td>\n",
       "      <td>191095.000000</td>\n",
       "      <td>191095.000000</td>\n",
       "      <td>191095.00000</td>\n",
       "      <td>191095.000000</td>\n",
       "      <td>...</td>\n",
       "      <td>191095.000000</td>\n",
       "      <td>191095.000000</td>\n",
       "      <td>191095.000000</td>\n",
       "      <td>191095.000000</td>\n",
       "      <td>191095.000000</td>\n",
       "      <td>191095.000000</td>\n",
       "      <td>191095.000000</td>\n",
       "      <td>191095.000000</td>\n",
       "      <td>191095.000000</td>\n",
       "      <td>191095.000000</td>\n",
       "    </tr>\n",
       "    <tr>\n",
       "      <th>mean</th>\n",
       "      <td>17.620405</td>\n",
       "      <td>37.360240</td>\n",
       "      <td>607.124383</td>\n",
       "      <td>3.784618</td>\n",
       "      <td>22.618143</td>\n",
       "      <td>46.560135</td>\n",
       "      <td>1029.472451</td>\n",
       "      <td>4.959778</td>\n",
       "      <td>23.14506</td>\n",
       "      <td>42.257392</td>\n",
       "      <td>...</td>\n",
       "      <td>0.810372</td>\n",
       "      <td>0.699427</td>\n",
       "      <td>0.903095</td>\n",
       "      <td>0.770083</td>\n",
       "      <td>1.915346</td>\n",
       "      <td>118.195531</td>\n",
       "      <td>79.094236</td>\n",
       "      <td>11.599346</td>\n",
       "      <td>11.486538</td>\n",
       "      <td>6.881384</td>\n",
       "    </tr>\n",
       "    <tr>\n",
       "      <th>std</th>\n",
       "      <td>7.360441</td>\n",
       "      <td>21.683884</td>\n",
       "      <td>351.071994</td>\n",
       "      <td>2.108106</td>\n",
       "      <td>1.737166</td>\n",
       "      <td>9.009886</td>\n",
       "      <td>376.879811</td>\n",
       "      <td>0.072573</td>\n",
       "      <td>2.19225</td>\n",
       "      <td>8.339722</td>\n",
       "      <td>...</td>\n",
       "      <td>0.392008</td>\n",
       "      <td>0.458508</td>\n",
       "      <td>0.295829</td>\n",
       "      <td>0.420780</td>\n",
       "      <td>1.667227</td>\n",
       "      <td>197.561623</td>\n",
       "      <td>15.514724</td>\n",
       "      <td>6.611773</td>\n",
       "      <td>6.914749</td>\n",
       "      <td>3.419892</td>\n",
       "    </tr>\n",
       "    <tr>\n",
       "      <th>min</th>\n",
       "      <td>4.390000</td>\n",
       "      <td>0.080000</td>\n",
       "      <td>3.900000</td>\n",
       "      <td>0.005300</td>\n",
       "      <td>4.110000</td>\n",
       "      <td>0.040000</td>\n",
       "      <td>3.000000</td>\n",
       "      <td>0.006600</td>\n",
       "      <td>4.34000</td>\n",
       "      <td>0.130000</td>\n",
       "      <td>...</td>\n",
       "      <td>0.000000</td>\n",
       "      <td>0.000000</td>\n",
       "      <td>0.000000</td>\n",
       "      <td>0.000000</td>\n",
       "      <td>0.000000</td>\n",
       "      <td>-576.000000</td>\n",
       "      <td>0.000000</td>\n",
       "      <td>-90.000000</td>\n",
       "      <td>0.000000</td>\n",
       "      <td>1.000000</td>\n",
       "    </tr>\n",
       "    <tr>\n",
       "      <th>25%</th>\n",
       "      <td>18.050000</td>\n",
       "      <td>28.180000</td>\n",
       "      <td>559.400000</td>\n",
       "      <td>4.955400</td>\n",
       "      <td>21.420000</td>\n",
       "      <td>40.240000</td>\n",
       "      <td>720.200000</td>\n",
       "      <td>4.960300</td>\n",
       "      <td>21.46000</td>\n",
       "      <td>36.880000</td>\n",
       "      <td>...</td>\n",
       "      <td>1.000000</td>\n",
       "      <td>0.000000</td>\n",
       "      <td>1.000000</td>\n",
       "      <td>1.000000</td>\n",
       "      <td>1.000000</td>\n",
       "      <td>-3.000000</td>\n",
       "      <td>70.000000</td>\n",
       "      <td>6.900000</td>\n",
       "      <td>5.000000</td>\n",
       "      <td>4.000000</td>\n",
       "    </tr>\n",
       "    <tr>\n",
       "      <th>50%</th>\n",
       "      <td>20.540000</td>\n",
       "      <td>45.190000</td>\n",
       "      <td>714.900000</td>\n",
       "      <td>4.960200</td>\n",
       "      <td>22.150000</td>\n",
       "      <td>46.670000</td>\n",
       "      <td>922.100000</td>\n",
       "      <td>4.961100</td>\n",
       "      <td>22.59000</td>\n",
       "      <td>42.460000</td>\n",
       "      <td>...</td>\n",
       "      <td>1.000000</td>\n",
       "      <td>1.000000</td>\n",
       "      <td>1.000000</td>\n",
       "      <td>1.000000</td>\n",
       "      <td>2.000000</td>\n",
       "      <td>2.000000</td>\n",
       "      <td>83.000000</td>\n",
       "      <td>11.600000</td>\n",
       "      <td>11.000000</td>\n",
       "      <td>7.000000</td>\n",
       "    </tr>\n",
       "    <tr>\n",
       "      <th>75%</th>\n",
       "      <td>22.350000</td>\n",
       "      <td>52.410000</td>\n",
       "      <td>830.500000</td>\n",
       "      <td>4.961400</td>\n",
       "      <td>23.540000</td>\n",
       "      <td>53.010000</td>\n",
       "      <td>1303.100000</td>\n",
       "      <td>4.961800</td>\n",
       "      <td>24.51000</td>\n",
       "      <td>47.790000</td>\n",
       "      <td>...</td>\n",
       "      <td>1.000000</td>\n",
       "      <td>1.000000</td>\n",
       "      <td>1.000000</td>\n",
       "      <td>1.000000</td>\n",
       "      <td>3.000000</td>\n",
       "      <td>169.000000</td>\n",
       "      <td>91.000000</td>\n",
       "      <td>16.200000</td>\n",
       "      <td>17.000000</td>\n",
       "      <td>10.000000</td>\n",
       "    </tr>\n",
       "    <tr>\n",
       "      <th>max</th>\n",
       "      <td>43.250000</td>\n",
       "      <td>74.290000</td>\n",
       "      <td>4894.100000</td>\n",
       "      <td>4.968300</td>\n",
       "      <td>43.080000</td>\n",
       "      <td>76.520000</td>\n",
       "      <td>4657.800000</td>\n",
       "      <td>4.968100</td>\n",
       "      <td>44.23000</td>\n",
       "      <td>69.890000</td>\n",
       "      <td>...</td>\n",
       "      <td>1.000000</td>\n",
       "      <td>1.000000</td>\n",
       "      <td>1.000000</td>\n",
       "      <td>1.000000</td>\n",
       "      <td>13.000000</td>\n",
       "      <td>957.000000</td>\n",
       "      <td>100.000000</td>\n",
       "      <td>34.300000</td>\n",
       "      <td>23.000000</td>\n",
       "      <td>12.000000</td>\n",
       "    </tr>\n",
       "  </tbody>\n",
       "</table>\n",
       "<p>8 rows × 25 columns</p>\n",
       "</div>"
      ],
      "text/plain": [
       "                t_lr          rh_lr         co2_lr         con_lr  \\\n",
       "count  191095.000000  191095.000000  191095.000000  191095.000000   \n",
       "mean       17.620405      37.360240     607.124383       3.784618   \n",
       "std         7.360441      21.683884     351.071994       2.108106   \n",
       "min         4.390000       0.080000       3.900000       0.005300   \n",
       "25%        18.050000      28.180000     559.400000       4.955400   \n",
       "50%        20.540000      45.190000     714.900000       4.960200   \n",
       "75%        22.350000      52.410000     830.500000       4.961400   \n",
       "max        43.250000      74.290000    4894.100000       4.968300   \n",
       "\n",
       "               t_br3         rh_br3        co2_br3        con_br3  \\\n",
       "count  191095.000000  191095.000000  191095.000000  191095.000000   \n",
       "mean       22.618143      46.560135    1029.472451       4.959778   \n",
       "std         1.737166       9.009886     376.879811       0.072573   \n",
       "min         4.110000       0.040000       3.000000       0.006600   \n",
       "25%        21.420000      40.240000     720.200000       4.960300   \n",
       "50%        22.150000      46.670000     922.100000       4.961100   \n",
       "75%        23.540000      53.010000    1303.100000       4.961800   \n",
       "max        43.080000      76.520000    4657.800000       4.968100   \n",
       "\n",
       "              t_br2         rh_br2      ...           wc_kitchen  \\\n",
       "count  191095.00000  191095.000000      ...        191095.000000   \n",
       "mean       23.14506      42.257392      ...             0.810372   \n",
       "std         2.19225       8.339722      ...             0.392008   \n",
       "min         4.34000       0.130000      ...             0.000000   \n",
       "25%        21.46000      36.880000      ...             1.000000   \n",
       "50%        22.59000      42.460000      ...             1.000000   \n",
       "75%        24.51000      47.790000      ...             1.000000   \n",
       "max        44.23000      69.890000      ...             1.000000   \n",
       "\n",
       "              wc_br3         wc_br2       wc_attic  avg_windspeed  \\\n",
       "count  191095.000000  191095.000000  191095.000000  191095.000000   \n",
       "mean        0.699427       0.903095       0.770083       1.915346   \n",
       "std         0.458508       0.295829       0.420780       1.667227   \n",
       "min         0.000000       0.000000       0.000000       0.000000   \n",
       "25%         0.000000       1.000000       1.000000       1.000000   \n",
       "50%         1.000000       1.000000       1.000000       2.000000   \n",
       "75%         1.000000       1.000000       1.000000       3.000000   \n",
       "max         1.000000       1.000000       1.000000      13.000000   \n",
       "\n",
       "       avg_irradiation         avg_rh          avg_t      HourOfDay  \\\n",
       "count    191095.000000  191095.000000  191095.000000  191095.000000   \n",
       "mean        118.195531      79.094236      11.599346      11.486538   \n",
       "std         197.561623      15.514724       6.611773       6.914749   \n",
       "min        -576.000000       0.000000     -90.000000       0.000000   \n",
       "25%          -3.000000      70.000000       6.900000       5.000000   \n",
       "50%           2.000000      83.000000      11.600000      11.000000   \n",
       "75%         169.000000      91.000000      16.200000      17.000000   \n",
       "max         957.000000     100.000000      34.300000      23.000000   \n",
       "\n",
       "               Month  \n",
       "count  191095.000000  \n",
       "mean        6.881384  \n",
       "std         3.419892  \n",
       "min         1.000000  \n",
       "25%         4.000000  \n",
       "50%         7.000000  \n",
       "75%        10.000000  \n",
       "max        12.000000  \n",
       "\n",
       "[8 rows x 25 columns]"
      ]
     },
     "execution_count": 701,
     "metadata": {},
     "output_type": "execute_result"
    }
   ],
   "source": [
    "#Behav = Behav.drop(['con_lr','con_br3','con_br2'],axis = 1)\n",
    "Behav.describe()"
   ]
  },
  {
   "cell_type": "code",
   "execution_count": 702,
   "metadata": {
    "collapsed": false
   },
   "outputs": [
    {
     "data": {
      "text/plain": [
       "(0, 350000)"
      ]
     },
     "execution_count": 702,
     "metadata": {},
     "output_type": "execute_result"
    },
    {
     "data": {
      "image/png": "[encoded data removed]",
      "text/plain": [
       "<matplotlib.figure.Figure at 0x13f41d690>"
      ]
     },
     "metadata": {},
     "output_type": "display_data"
    }
   ],
   "source": [
    "# some statistics\n",
    "# specifies the parameters of our graphs\n",
    "fig = plt.figure(figsize=(18,9), dpi=1600) \n",
    "alpha_bar_chart = 0.55\n",
    "\n",
    "# lets us plot many diffrent shaped graphs together \n",
    "ax1 = plt.subplot2grid((2,3),(0,0))\n",
    "# plots a bar graph of those who surived vs those who did not.               \n",
    "Behav.wc_lr.value_counts().plot(kind='bar', alpha=alpha_bar_chart)\n",
    "plt.title('Living Room')\n",
    "plt.ylim(0,350000)\n",
    "\n",
    "# lets us plot many diffrent shaped graphs together \n",
    "ax2 = plt.subplot2grid((2,3),(0,1))\n",
    "# plots a bar graph of those who surived vs those who did not.               \n",
    "Behav.wc_kitchen.value_counts().plot(kind='bar', alpha=alpha_bar_chart)\n",
    "plt.title('Kitchen')\n",
    "plt.ylim(0,350000)\n",
    "\n",
    "# lets us plot many diffrent shaped graphs together \n",
    "ax3 = plt.subplot2grid((2,3),(0,2))\n",
    "# plots a bar graph of those who surived vs those who did not.               \n",
    "Behav.wc_br3.value_counts().plot(kind='bar', alpha=alpha_bar_chart)\n",
    "plt.title('BR3')\n",
    "plt.ylim(0,350000)\n",
    "\n",
    "# lets us plot many diffrent shaped graphs together \n",
    "ax4 = plt.subplot2grid((2,3),(1,0))\n",
    "# plots a bar graph of those who surived vs those who did not.               \n",
    "Behav.wc_br2.value_counts().plot(kind='bar', alpha=alpha_bar_chart)\n",
    "plt.title('BR2')\n",
    "plt.ylim(0,350000)\n",
    "\n",
    "# lets us plot many diffrent shaped graphs together \n",
    "ax5 = plt.subplot2grid((2,3),(1,1))\n",
    "# plots a bar graph of those who surived vs those who did not.               \n",
    "Behav.wc_attic.value_counts().plot(kind='bar', alpha=alpha_bar_chart)\n",
    "plt.title('Attic')\n",
    "plt.ylim(0,350000)"
   ]
  },
  {
   "cell_type": "code",
   "execution_count": 703,
   "metadata": {
    "collapsed": false
   },
   "outputs": [],
   "source": [
    "#Deal with the cutting edges\n",
    "opr = {}\n",
    "opr_open = {}\n",
    "opr_close = {}\n",
    "counts = {}\n",
    "\n",
    "for col in ['wc_lr', 'wc_kitchen', 'wc_br3', 'wc_br2', 'wc_attic']:\n",
    "    wc = Behav[col]\n",
    "    opr[col] = wc-wc.shift(-1) # substract the element following 1=open 0=keep -1=close\n",
    "    opr[col] = opr[col].replace(np.nan,0) # replacing the last row from nan to 0\n",
    "    opr_open[col] = opr[col][opr[col] == 1].index #AWARE! The difference between no. and index\n",
    "    opr_close[col] = opr[col][opr[col] == -1].index\n",
    "    counts[col] = len(opr_open[col])"
   ]
  },
  {
   "cell_type": "code",
   "execution_count": 704,
   "metadata": {
    "collapsed": false
   },
   "outputs": [
    {
     "data": {
      "text/plain": [
       "<matplotlib.text.Text at 0x140452a10>"
      ]
     },
     "execution_count": 704,
     "metadata": {},
     "output_type": "execute_result"
    },
    {
     "data": {
      "image/png": "[encoded data removed]",
      "text/plain": [
       "<matplotlib.figure.Figure at 0x13f7b3810>"
      ]
     },
     "metadata": {},
     "output_type": "display_data"
    }
   ],
   "source": [
    "plt.bar(range(len(counts)), counts.values(), align='center') #from dict create bar chart\n",
    "plt.xticks(range(len(counts)), counts.keys())\n",
    "plt.title('window operation frequency')"
   ]
  },
  {
   "cell_type": "code",
   "execution_count": 705,
   "metadata": {
    "collapsed": false
   },
   "outputs": [
    {
     "name": "stdout",
     "output_type": "stream",
     "text": [
      "{0: 3, 1: 30, 2: 45, 3: 44, 4: 37, 5: 44, 6: 42, 7: 50, 8: 73, 9: 72, 10: 79, 11: 94, 12: 173, 13: 121, 14: 66, 15: 57, 16: 44, 17: 25, 18: 11, 19: 1, 20: 2, 21: 2, 22: 4, 23: 2, 24: 0}\n"
     ]
    },
    {
     "data": {
      "image/png": "[encoded data removed]",
      "text/plain": [
       "<matplotlib.figure.Figure at 0x12d218210>"
      ]
     },
     "metadata": {},
     "output_type": "display_data"
    }
   ],
   "source": [
    "openidx = opr_open['wc_br3']\n",
    "openhour = Behav['HourOfDay'][openidx]\n",
    "index = openhour.value_counts(sort=False)[openhour.value_counts(sort=False) != np.nan].index\n",
    "openhr = {}\n",
    "for i in range (0,25):\n",
    "    openhr[i]=0\n",
    "for idx in index:\n",
    "    openhr[idx] = openhour.value_counts(sort=False)[idx]\n",
    "plt.bar(range(len(openhr)), openhr.values(), align='center',width = 0.9) #from dict create bar chart\n",
    "plt.xticks(range(len(openhr)), openhr.keys())\n",
    "plt.title('Open hour distribution')"
   ]
  },
  {
   "cell_type": "code",
   "execution_count": 706,
   "metadata": {
    "collapsed": false
   },
   "outputs": [
    {
     "name": "stdout",
     "output_type": "stream",
     "text": [
      "{0: 29, 1: 33, 2: 49, 3: 39, 4: 34, 5: 43, 6: 37, 7: 42, 8: 38, 9: 33, 10: 49, 11: 15, 12: 13, 13: 45, 14: 73, 15: 97, 16: 91, 17: 87, 18: 109, 19: 25, 20: 40, 21: 68, 22: 25, 23: 7, 24: 0}\n"
     ]
    },
    {
     "data": {
      "text/plain": [
       "<matplotlib.text.Text at 0x13f059b10>"
      ]
     },
     "execution_count": 706,
     "metadata": {},
     "output_type": "execute_result"
    },
    {
     "data": {
      "image/png": "[encoded data removed]",
      "text/plain": [
       "<matplotlib.figure.Figure at 0x12db259d0>"
      ]
     },
     "metadata": {},
     "output_type": "display_data"
    }
   ],
   "source": [
    "closeidx = opr_close['wc_br3']\n",
    "closehour = Behav['HourOfDay'][closeidx]\n",
    "index = closehour.value_counts(sort=False)[closehour.value_counts(sort=False) != np.nan].index\n",
    "closehr = {}\n",
    "for i in range (0,25):\n",
    "    closehr[i]=0\n",
    "for idx in index:\n",
    "    closehr[idx] = closehour.value_counts(sort=False)[idx]\n",
    "plt.bar(range(len(closehr)), closehr.values(), align='center',width = 0.9) #from dict create bar chart\n",
    "plt.xticks(range(len(closehr)), closehr.keys())\n",
    "plt.title('Close Hourly Distribution')"
   ]
  },
  {
   "cell_type": "code",
   "execution_count": 707,
   "metadata": {
    "collapsed": false
   },
   "outputs": [
    {
     "name": "stdout",
     "output_type": "stream",
     "text": [
      "{0: 0, 1: 46, 2: 23, 3: 58, 4: 62, 5: 67, 6: 61, 7: 18, 8: 35, 9: 54, 10: 50, 11: 601, 12: 46}\n"
     ]
    },
    {
     "data": {
      "image/png": "[encoded data removed]",
      "text/plain": [
       "<matplotlib.figure.Figure at 0x12db25d50>"
      ]
     },
     "metadata": {},
     "output_type": "display_data"
    }
   ],
   "source": [
    "openmonth = Behav['Month'][openidx]\n",
    "index = openmonth.value_counts(sort=False)[openmonth.value_counts(sort=False) != np.nan].index\n",
    "openmon = {}\n",
    "for i in range (0,13):\n",
    "    openmon[i]=0\n",
    "for idx in index:\n",
    "    openmon[idx] = openmonth.value_counts(sort=False)[idx]\n",
    "plt.bar(range(len(openmon)), openmon.values(), align='center',width = 0.9) #from dict create bar chart\n",
    "plt.xticks(range(len(openmon)), openmon.keys())\n",
    "plt.title('Open Month distribution')"
   ]
  },
  {
   "cell_type": "code",
   "execution_count": 708,
   "metadata": {
    "collapsed": false
   },
   "outputs": [],
   "source": [
    "Behav_open = Behav.ix[openidx,['t_br3','co2_br3','rh_br3','HourOfDay','Month','avg_windspeed','avg_irradiation','avg_rh','avg_t']]\n",
    "Behav_open['close'] = 0\n",
    "Behav_close = Behav.ix[closeidx,['t_br3','co2_br3','rh_br3','HourOfDay','Month','avg_windspeed','avg_irradiation','avg_rh','avg_t']]\n",
    "Behav_close['close'] = 1\n",
    "Behav_extracted = pd.concat([Behav_open,Behav_close])\n",
    "operation = Behav_extracted.pop('close')\n",
    "#Behav_extracted = Behav_extracted.drop(['wc_lr', 'wc_kitchen', 'wc_br3', 'wc_br2', 'wc_attic'],axis = 1)"
   ]
  },
  {
   "cell_type": "code",
   "execution_count": 709,
   "metadata": {
    "collapsed": true
   },
   "outputs": [],
   "source": [
    "from sklearn.ensemble import RandomForestClassifier\n",
    "from sklearn.metrics import roc_auc_score"
   ]
  },
  {
   "cell_type": "code",
   "execution_count": 710,
   "metadata": {
    "collapsed": false
   },
   "outputs": [
    {
     "name": "stdout",
     "output_type": "stream",
     "text": [
      "0.954950936664\n"
     ]
    }
   ],
   "source": [
    "rf_w = RandomForestClassifier(n_estimators=1000,n_jobs=-1,oob_score=True)\n",
    "rf_w.fit(Behav_extracted,operation)\n",
    "#out-of-bag score, which is equivalent to test set accuracy\n",
    "print rf_w.oob_score_"
   ]
  },
  {
   "cell_type": "code",
   "execution_count": 711,
   "metadata": {
    "collapsed": false
   },
   "outputs": [
    {
     "name": "stdout",
     "output_type": "stream",
     "text": [
      "t_br3              0.155635\n",
      "co2_br3            0.449405\n",
      "rh_br3             0.082952\n",
      "HourOfDay          0.108798\n",
      "Month              0.026866\n",
      "avg_windspeed      0.018054\n",
      "avg_irradiation    0.056871\n",
      "avg_rh             0.040473\n",
      "avg_t              0.060946\n",
      "dtype: float64\n"
     ]
    },
    {
     "name": "stderr",
     "output_type": "stream",
     "text": [
      "/Users/xinyuyangren/anaconda/lib/python2.7/site-packages/ipykernel/__main__.py:5: FutureWarning: sort is deprecated, use sort_values(inplace=True) for for INPLACE sorting\n"
     ]
    },
    {
     "data": {
      "text/plain": [
       "<matplotlib.axes._subplots.AxesSubplot at 0x122b92610>"
      ]
     },
     "execution_count": 711,
     "metadata": {},
     "output_type": "execute_result"
    },
    {
     "data": {
      "image/png": "[encoded data removed]",
      "text/plain": [
       "<matplotlib.figure.Figure at 0x12cd74f50>"
      ]
     },
     "metadata": {},
     "output_type": "display_data"
    }
   ],
   "source": [
    "# This feature_importances implies how imformative certain attribute is in the classifying process\n",
    "# (By calculating the error reduction with each attribute)\n",
    "feature_importances_w = pd.Series(rf_w.feature_importances_,index = Behav_extracted.columns)\n",
    "print feature_importances_w\n",
    "feature_importances_w.sort(inplace = True)\n",
    "feature_importances_w.plot(kind = 'barh',title = 'Importance of feature in window opening')"
   ]
  },
  {
   "cell_type": "code",
   "execution_count": null,
   "metadata": {
    "collapsed": true
   },
   "outputs": [],
   "source": []
  }
 ],
 "metadata": {
  "kernelspec": {
   "display_name": "Python 2",
   "language": "python",
   "name": "python2"
  },
  "language_info": {
   "codemirror_mode": {
    "name": "ipython",
    "version": 2
   },
   "file_extension": ".py",
   "mimetype": "text/x-python",
   "name": "python",
   "nbconvert_exporter": "python",
   "pygments_lexer": "ipython2",
   "version": "2.7.11"
  }
 },
 "nbformat": 4,
 "nbformat_minor": 0
}
