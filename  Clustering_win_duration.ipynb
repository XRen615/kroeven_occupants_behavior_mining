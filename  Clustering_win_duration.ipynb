{
 "cells": [
  {
   "cell_type": "markdown",
   "metadata": {},
   "source": [
    "Clustering Win_duration Pattern"
   ]
  },
  {
   "cell_type": "code",
   "execution_count": 1,
   "metadata": {
    "collapsed": false
   },
   "outputs": [
    {
     "name": "stderr",
     "output_type": "stream",
     "text": [
      "/Users/xinyuyangren/anaconda/lib/python2.7/site-packages/matplotlib/__init__.py:872: UserWarning: axes.color_cycle is deprecated and replaced with axes.prop_cycle; please use the latter.\n",
      "  warnings.warn(self.msg_depr % (key, alt_key))\n"
     ]
    }
   ],
   "source": [
    "import matplotlib.pyplot as plt\n",
    "%matplotlib inline\n",
    "import numpy as np\n",
    "import pandas as pd\n",
    "import seaborn as sns\n",
    "from sklearn.cluster import KMeans"
   ]
  },
  {
   "cell_type": "code",
   "execution_count": 2,
   "metadata": {
    "collapsed": false
   },
   "outputs": [
    {
     "data": {
      "text/html": [
       "<div>\n",
       "<table border=\"1\" class=\"dataframe\">\n",
       "  <thead>\n",
       "    <tr style=\"text-align: right;\">\n",
       "      <th></th>\n",
       "      <th>Spring</th>\n",
       "      <th>Summer</th>\n",
       "      <th>Autumn</th>\n",
       "      <th>Winter</th>\n",
       "      <th>Sum</th>\n",
       "      <th>Mean</th>\n",
       "      <th>Std</th>\n",
       "      <th>CV</th>\n",
       "    </tr>\n",
       "  </thead>\n",
       "  <tbody>\n",
       "    <tr>\n",
       "      <th>1</th>\n",
       "      <td>24941</td>\n",
       "      <td>36550</td>\n",
       "      <td>68088</td>\n",
       "      <td>22426</td>\n",
       "      <td>152005</td>\n",
       "      <td>38001.25</td>\n",
       "      <td>18169.185416</td>\n",
       "      <td>0.478121</td>\n",
       "    </tr>\n",
       "    <tr>\n",
       "      <th>2</th>\n",
       "      <td>5590</td>\n",
       "      <td>27239</td>\n",
       "      <td>15661</td>\n",
       "      <td>9224</td>\n",
       "      <td>57714</td>\n",
       "      <td>14428.50</td>\n",
       "      <td>8228.515495</td>\n",
       "      <td>0.570296</td>\n",
       "    </tr>\n",
       "    <tr>\n",
       "      <th>3</th>\n",
       "      <td>62287</td>\n",
       "      <td>71443</td>\n",
       "      <td>62007</td>\n",
       "      <td>22619</td>\n",
       "      <td>218356</td>\n",
       "      <td>54589.00</td>\n",
       "      <td>18844.257375</td>\n",
       "      <td>0.345202</td>\n",
       "    </tr>\n",
       "    <tr>\n",
       "      <th>4</th>\n",
       "      <td>46252</td>\n",
       "      <td>53647</td>\n",
       "      <td>69648</td>\n",
       "      <td>41878</td>\n",
       "      <td>211425</td>\n",
       "      <td>52856.25</td>\n",
       "      <td>10567.949715</td>\n",
       "      <td>0.199938</td>\n",
       "    </tr>\n",
       "    <tr>\n",
       "      <th>5</th>\n",
       "      <td>64243</td>\n",
       "      <td>85297</td>\n",
       "      <td>58520</td>\n",
       "      <td>50794</td>\n",
       "      <td>258854</td>\n",
       "      <td>64713.50</td>\n",
       "      <td>12806.382832</td>\n",
       "      <td>0.197894</td>\n",
       "    </tr>\n",
       "    <tr>\n",
       "      <th>6</th>\n",
       "      <td>1</td>\n",
       "      <td>54</td>\n",
       "      <td>2</td>\n",
       "      <td>73</td>\n",
       "      <td>130</td>\n",
       "      <td>32.50</td>\n",
       "      <td>31.721444</td>\n",
       "      <td>0.976044</td>\n",
       "    </tr>\n",
       "    <tr>\n",
       "      <th>7</th>\n",
       "      <td>26000</td>\n",
       "      <td>32721</td>\n",
       "      <td>34583</td>\n",
       "      <td>24466</td>\n",
       "      <td>117770</td>\n",
       "      <td>29442.50</td>\n",
       "      <td>4295.045430</td>\n",
       "      <td>0.145879</td>\n",
       "    </tr>\n",
       "    <tr>\n",
       "      <th>8</th>\n",
       "      <td>319</td>\n",
       "      <td>2934</td>\n",
       "      <td>367</td>\n",
       "      <td>0</td>\n",
       "      <td>3620</td>\n",
       "      <td>905.00</td>\n",
       "      <td>1179.905293</td>\n",
       "      <td>1.303763</td>\n",
       "    </tr>\n",
       "    <tr>\n",
       "      <th>9</th>\n",
       "      <td>52577</td>\n",
       "      <td>66105</td>\n",
       "      <td>55458</td>\n",
       "      <td>38365</td>\n",
       "      <td>212505</td>\n",
       "      <td>53126.25</td>\n",
       "      <td>9900.520021</td>\n",
       "      <td>0.186358</td>\n",
       "    </tr>\n",
       "    <tr>\n",
       "      <th>10</th>\n",
       "      <td>22702</td>\n",
       "      <td>44446</td>\n",
       "      <td>26916</td>\n",
       "      <td>11196</td>\n",
       "      <td>105260</td>\n",
       "      <td>26315.00</td>\n",
       "      <td>11945.002009</td>\n",
       "      <td>0.453924</td>\n",
       "    </tr>\n",
       "  </tbody>\n",
       "</table>\n",
       "</div>"
      ],
      "text/plain": [
       "    Spring  Summer  Autumn  Winter     Sum      Mean           Std        CV\n",
       "1    24941   36550   68088   22426  152005  38001.25  18169.185416  0.478121\n",
       "2     5590   27239   15661    9224   57714  14428.50   8228.515495  0.570296\n",
       "3    62287   71443   62007   22619  218356  54589.00  18844.257375  0.345202\n",
       "4    46252   53647   69648   41878  211425  52856.25  10567.949715  0.199938\n",
       "5    64243   85297   58520   50794  258854  64713.50  12806.382832  0.197894\n",
       "6        1      54       2      73     130     32.50     31.721444  0.976044\n",
       "7    26000   32721   34583   24466  117770  29442.50   4295.045430  0.145879\n",
       "8      319    2934     367       0    3620    905.00   1179.905293  1.303763\n",
       "9    52577   66105   55458   38365  212505  53126.25   9900.520021  0.186358\n",
       "10   22702   44446   26916   11196  105260  26315.00  11945.002009  0.453924"
      ]
     },
     "execution_count": 2,
     "metadata": {},
     "output_type": "execute_result"
    }
   ],
   "source": [
    "df = pd.read_excel('/Users/xinyuyangren/Desktop/Paper/winbyseasons.xlsx')\n",
    "df"
   ]
  },
  {
   "cell_type": "code",
   "execution_count": 3,
   "metadata": {
    "collapsed": false
   },
   "outputs": [
    {
     "data": {
      "text/plain": [
       "(0.625, 11.125)"
      ]
     },
     "execution_count": 3,
     "metadata": {},
     "output_type": "execute_result"
    },
    {
     "data": {
      "image/png": "[encoded data removed]",
      "text/plain": [
       "<matplotlib.figure.Figure at 0x10c088790>"
      ]
     },
     "metadata": {},
     "output_type": "display_data"
    }
   ],
   "source": [
    "#Stacked bar plot\n",
    "# Create the general blog and the \"subplots\" i.e. the bars\n",
    "f, ax1 = plt.subplots(1, figsize=(10,5))\n",
    "\n",
    "# Set the bar width\n",
    "bar_width = 0.75\n",
    "\n",
    "# positions of the left bar-boundaries\n",
    "bar_l = [i+1 for i in range(len(df['Spring']))]\n",
    "\n",
    "# positions of the x-axis ticks (center of the bars as bar labels)\n",
    "tick_pos = [i+(bar_width/2) for i in bar_l]\n",
    "\n",
    "# Create a bar plot, in position bar_1\n",
    "ax1.bar(bar_l,\n",
    "        # using the pre_score data\n",
    "        df['Spring'],\n",
    "        # set the width\n",
    "        width=bar_width,\n",
    "        # with the label pre score\n",
    "        label='Spring',\n",
    "        # with alpha 0.5\n",
    "        alpha=0.5,\n",
    "        # with color\n",
    "        color='#F4561D')\n",
    "\n",
    "# Create a bar plot, in position bar_1\n",
    "ax1.bar(bar_l,\n",
    "        # using the mid_score data\n",
    "        df['Summer'],\n",
    "        # set the width\n",
    "        width=bar_width,\n",
    "        # with pre_score on the bottom\n",
    "        bottom=df['Spring'],\n",
    "        # with the label mid score\n",
    "        label='Summer',\n",
    "        # with alpha 0.5\n",
    "        alpha=0.5,\n",
    "        # with color\n",
    "        color='#F1911E')\n",
    "\n",
    "# Create a bar plot, in position bar_1\n",
    "ax1.bar(bar_l,\n",
    "        # using the post_score data\n",
    "        df['Autumn'],\n",
    "        # set the width\n",
    "        width=bar_width,\n",
    "        # with pre_score and mid_score on the bottom\n",
    "        bottom=[i+j for i,j in zip(df['Spring'],df['Summer'])],\n",
    "        # with the label post score\n",
    "        label='Autumn',\n",
    "        # with alpha 0.5\n",
    "        alpha=0.5,\n",
    "        # with color\n",
    "        color='#F1BD1A')\n",
    "\n",
    "# Create a bar plot, in position bar_1\n",
    "ax1.bar(bar_l,\n",
    "        # using the post_score data\n",
    "        df['Winter'],\n",
    "        # set the width\n",
    "        width=bar_width,\n",
    "        # with pre_score and mid_score on the bottom\n",
    "        bottom=[i+j+k for i,j,k in zip(df['Spring'],df['Summer'],df['Autumn'])],\n",
    "        # with the label post score\n",
    "        label='Winter',\n",
    "        # with alpha 0.5\n",
    "        alpha=0.5,\n",
    "        # with color\n",
    "        color='k')\n",
    "# set the x ticks with names\n",
    "plt.xticks(tick_pos, df.index)\n",
    "\n",
    "# Set the label and legends\n",
    "ax1.set_ylabel(\"Open records count\")\n",
    "ax1.set_xlabel(\"House no\")\n",
    "plt.legend(loc='upper left')\n",
    "plt.title('Window open duration: season breakdown')\n",
    "\n",
    "# Set a buffer around the edge\n",
    "plt.xlim([min(tick_pos)-bar_width, max(tick_pos)+bar_width])"
   ]
  },
  {
   "cell_type": "code",
   "execution_count": 98,
   "metadata": {
    "collapsed": true
   },
   "outputs": [],
   "source": [
    "data = df[['Mean','CV']]\n",
    "data = data.drop(data.index[[5,7]])#drop the rows with too small means\n",
    "data"
   ]
  },
  {
   "cell_type": "code",
   "execution_count": 120,
   "metadata": {
    "collapsed": false
   },
   "outputs": [],
   "source": [
    "from sklearn.preprocessing import scale\n",
    "data = scale(data)"
   ]
  },
  {
   "cell_type": "code",
   "execution_count": 157,
   "metadata": {
    "collapsed": false
   },
   "outputs": [
    {
     "data": {
      "text/plain": [
       "KMeans(copy_x=True, init='k-means++', max_iter=300, n_clusters=4, n_init=10,\n",
       "    n_jobs=1, precompute_distances='auto', random_state=None, tol=0.0001,\n",
       "    verbose=0)"
      ]
     },
     "execution_count": 157,
     "metadata": {},
     "output_type": "execute_result"
    }
   ],
   "source": [
    "estimator = KMeans(n_clusters=4)\n",
    "estimator.fit(data)"
   ]
  },
  {
   "cell_type": "code",
   "execution_count": 158,
   "metadata": {
    "collapsed": false
   },
   "outputs": [
    {
     "name": "stdout",
     "output_type": "stream",
     "text": [
      "[1 3 0 0 0 2 0 1]\n"
     ]
    }
   ],
   "source": [
    "labels = estimator.labels_\n",
    "print estimator.labels_"
   ]
  },
  {
   "cell_type": "code",
   "execution_count": 160,
   "metadata": {
    "collapsed": false
   },
   "outputs": [
    {
     "data": {
      "image/png": "[encoded data removed]",
      "text/plain": [
       "<matplotlib.figure.Figure at 0x10f331650>"
      ]
     },
     "metadata": {},
     "output_type": "display_data"
    }
   ],
   "source": [
    "xs = data[:,0]\n",
    "ys = data[:,1]\n",
    "plt.figure(figsize=(10,8))\n",
    "for i in range(0, len(labels)):\n",
    "    if labels[i] == 0:\n",
    "        c1 = plt.scatter(xs[i],ys[i],c='r',marker='o',s = 8*8)\n",
    "    elif labels[i] == 1:\n",
    "        c2 = plt.scatter(xs[i],ys[i],c='k',marker='x',s = 8*8)\n",
    "    elif labels[i] == 2:\n",
    "        c3 = plt.scatter(xs[i],ys[i],c='b',marker='*',s = 8*8)\n",
    "    elif labels[i] == 3:\n",
    "        c4 = plt.scatter(xs[i],ys[i],c='m',marker='^',s = 8*8)\n",
    "plt.legend([c1, c2, c3, c4], ['Long open duration/low inter season variation', 'Medium open duration/high inter season variation','Medium open duration/low inter season variation','Short open duration/high inter season variation'])\n",
    "plt.xlabel('Scaled index of mean open duration')\n",
    "plt.ylabel('Scaled index of relative standard deviation')\n",
    "plt.title('Duration patterns of window operation')\n",
    "\n",
    "housenum = ['House{0}'.format(i) for i in [1,2,3,4,5,7,9,10]]\n",
    "for housenum, x, y in zip(housenum, xs, ys):\n",
    "    plt.annotate(\n",
    "        housenum, \n",
    "        xy = (x, y), xytext = (45, 0),\n",
    "        textcoords = 'offset points', ha = 'right', va = 'bottom',\n",
    "        bbox = dict(boxstyle = 'round,pad=0.3', fc = 'yellow', alpha = 0.5))"
   ]
  }
 ],
 "metadata": {
  "kernelspec": {
   "display_name": "Python 2",
   "language": "python",
   "name": "python2"
  },
  "language_info": {
   "codemirror_mode": {
    "name": "ipython",
    "version": 2
   },
   "file_extension": ".py",
   "mimetype": "text/x-python",
   "name": "python",
   "nbconvert_exporter": "python",
   "pygments_lexer": "ipython2",
   "version": "2.7.11"
  }
 },
 "nbformat": 4,
 "nbformat_minor": 0
}
