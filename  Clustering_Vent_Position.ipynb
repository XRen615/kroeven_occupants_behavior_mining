{
 "cells": [
  {
   "cell_type": "code",
   "execution_count": 82,
   "metadata": {
    "collapsed": false
   },
   "outputs": [],
   "source": [
    "import matplotlib.pyplot as plt\n",
    "%matplotlib inline\n",
    "import numpy as np\n",
    "import pandas as pd\n",
    "import seaborn as sns\n",
    "from sklearn.cluster import KMeans"
   ]
  },
  {
   "cell_type": "code",
   "execution_count": 83,
   "metadata": {
    "collapsed": false
   },
   "outputs": [
    {
     "data": {
      "text/html": [
       "<div>\n",
       "<table border=\"1\" class=\"dataframe\">\n",
       "  <thead>\n",
       "    <tr style=\"text-align: right;\">\n",
       "      <th></th>\n",
       "      <th>Spring</th>\n",
       "      <th>Summer</th>\n",
       "      <th>Autumn</th>\n",
       "      <th>Winter</th>\n",
       "      <th>Mean</th>\n",
       "      <th>Std</th>\n",
       "      <th>RSD</th>\n",
       "      <th>label</th>\n",
       "    </tr>\n",
       "  </thead>\n",
       "  <tbody>\n",
       "    <tr>\n",
       "      <th>1</th>\n",
       "      <td>1.290308</td>\n",
       "      <td>1.813774</td>\n",
       "      <td>1.350733</td>\n",
       "      <td>1.025463</td>\n",
       "      <td>1.370069</td>\n",
       "      <td>0.283885</td>\n",
       "      <td>0.207205</td>\n",
       "      <td>505</td>\n",
       "    </tr>\n",
       "    <tr>\n",
       "      <th>2</th>\n",
       "      <td>1.528018</td>\n",
       "      <td>1.350543</td>\n",
       "      <td>1.501374</td>\n",
       "      <td>1.206704</td>\n",
       "      <td>1.396660</td>\n",
       "      <td>0.128870</td>\n",
       "      <td>0.092270</td>\n",
       "      <td>505</td>\n",
       "    </tr>\n",
       "    <tr>\n",
       "      <th>3</th>\n",
       "      <td>1.159873</td>\n",
       "      <td>1.016304</td>\n",
       "      <td>1.073260</td>\n",
       "      <td>1.160689</td>\n",
       "      <td>1.102532</td>\n",
       "      <td>0.061160</td>\n",
       "      <td>0.055473</td>\n",
       "      <td>506</td>\n",
       "    </tr>\n",
       "    <tr>\n",
       "      <th>4</th>\n",
       "      <td>1.130888</td>\n",
       "      <td>1.397192</td>\n",
       "      <td>1.076465</td>\n",
       "      <td>1.002329</td>\n",
       "      <td>1.151718</td>\n",
       "      <td>0.148889</td>\n",
       "      <td>0.129275</td>\n",
       "      <td>505</td>\n",
       "    </tr>\n",
       "    <tr>\n",
       "      <th>5</th>\n",
       "      <td>1.003170</td>\n",
       "      <td>1.003623</td>\n",
       "      <td>1.962812</td>\n",
       "      <td>1.272052</td>\n",
       "      <td>1.310414</td>\n",
       "      <td>0.392305</td>\n",
       "      <td>0.299375</td>\n",
       "      <td>506</td>\n",
       "    </tr>\n",
       "    <tr>\n",
       "      <th>6</th>\n",
       "      <td>1.414402</td>\n",
       "      <td>1.906703</td>\n",
       "      <td>1.798993</td>\n",
       "      <td>1.580103</td>\n",
       "      <td>1.675050</td>\n",
       "      <td>0.191035</td>\n",
       "      <td>0.114047</td>\n",
       "      <td>505</td>\n",
       "    </tr>\n",
       "    <tr>\n",
       "      <th>7</th>\n",
       "      <td>1.075634</td>\n",
       "      <td>2.017663</td>\n",
       "      <td>2.018315</td>\n",
       "      <td>1.399440</td>\n",
       "      <td>1.627763</td>\n",
       "      <td>0.406673</td>\n",
       "      <td>0.249835</td>\n",
       "      <td>506</td>\n",
       "    </tr>\n",
       "    <tr>\n",
       "      <th>8</th>\n",
       "      <td>1.491395</td>\n",
       "      <td>2.101902</td>\n",
       "      <td>2.200370</td>\n",
       "      <td>1.558051</td>\n",
       "      <td>1.837929</td>\n",
       "      <td>0.316016</td>\n",
       "      <td>0.171941</td>\n",
       "      <td>506</td>\n",
       "    </tr>\n",
       "    <tr>\n",
       "      <th>9</th>\n",
       "      <td>1.039855</td>\n",
       "      <td>1.166667</td>\n",
       "      <td>1.174451</td>\n",
       "      <td>1.083101</td>\n",
       "      <td>1.116018</td>\n",
       "      <td>0.056710</td>\n",
       "      <td>0.050814</td>\n",
       "      <td>506</td>\n",
       "    </tr>\n",
       "    <tr>\n",
       "      <th>10</th>\n",
       "      <td>2.020380</td>\n",
       "      <td>2.003623</td>\n",
       "      <td>2.001374</td>\n",
       "      <td>2.038533</td>\n",
       "      <td>2.015978</td>\n",
       "      <td>0.014950</td>\n",
       "      <td>0.007416</td>\n",
       "      <td>505</td>\n",
       "    </tr>\n",
       "  </tbody>\n",
       "</table>\n",
       "</div>"
      ],
      "text/plain": [
       "      Spring    Summer    Autumn    Winter      Mean       Std       RSD  \\\n",
       "1   1.290308  1.813774  1.350733  1.025463  1.370069  0.283885  0.207205   \n",
       "2   1.528018  1.350543  1.501374  1.206704  1.396660  0.128870  0.092270   \n",
       "3   1.159873  1.016304  1.073260  1.160689  1.102532  0.061160  0.055473   \n",
       "4   1.130888  1.397192  1.076465  1.002329  1.151718  0.148889  0.129275   \n",
       "5   1.003170  1.003623  1.962812  1.272052  1.310414  0.392305  0.299375   \n",
       "6   1.414402  1.906703  1.798993  1.580103  1.675050  0.191035  0.114047   \n",
       "7   1.075634  2.017663  2.018315  1.399440  1.627763  0.406673  0.249835   \n",
       "8   1.491395  2.101902  2.200370  1.558051  1.837929  0.316016  0.171941   \n",
       "9   1.039855  1.166667  1.174451  1.083101  1.116018  0.056710  0.050814   \n",
       "10  2.020380  2.003623  2.001374  2.038533  2.015978  0.014950  0.007416   \n",
       "\n",
       "    label  \n",
       "1     505  \n",
       "2     505  \n",
       "3     506  \n",
       "4     505  \n",
       "5     506  \n",
       "6     505  \n",
       "7     506  \n",
       "8     506  \n",
       "9     506  \n",
       "10    505  "
      ]
     },
     "execution_count": 83,
     "metadata": {},
     "output_type": "execute_result"
    }
   ],
   "source": [
    "df = pd.read_excel('/Users/xinyuyangren/Desktop/Ventilation_Position/ventbyseasons_2014.xlsx')\n",
    "df"
   ]
  },
  {
   "cell_type": "code",
   "execution_count": 84,
   "metadata": {
    "collapsed": false
   },
   "outputs": [
    {
     "data": {
      "text/plain": [
       "(0.625, 11.125)"
      ]
     },
     "execution_count": 84,
     "metadata": {},
     "output_type": "execute_result"
    },
    {
     "data": {
      "image/png": "[encoded data removed]",
      "text/plain": [
       "<matplotlib.figure.Figure at 0x1140a7550>"
      ]
     },
     "metadata": {},
     "output_type": "display_data"
    }
   ],
   "source": [
    "#Stacked bar plot\n",
    "# Create the general blog and the \"subplots\" i.e. the bars\n",
    "f, ax1 = plt.subplots(1, figsize=(10,5))\n",
    "\n",
    "#ix[order] in order to plot 505 506 type seperately\n",
    "order = [1,2,4,6,10,3,5,7,8,9]\n",
    "# Set the bar width\n",
    "bar_width = 0.75\n",
    "\n",
    "# positions of the left bar-boundaries\n",
    "bar_l = [i+1 for i in range(len(df['Spring']))]\n",
    "\n",
    "# positions of the x-axis ticks (center of the bars as bar labels)\n",
    "tick_pos = [i+(bar_width/2) for i in bar_l]\n",
    "\n",
    "# Create a bar plot, in position bar_1\n",
    "ax1.bar(bar_l,\n",
    "        # using the pre_score data\n",
    "        df['Spring'].ix[order],\n",
    "        # set the width\n",
    "        width=bar_width,\n",
    "        # with the label pre score\n",
    "        label='Spring',\n",
    "        # with alpha 0.5\n",
    "        alpha=0.5,\n",
    "        # with color\n",
    "        color='#F4561D')\n",
    "\n",
    "# Create a bar plot, in position bar_1\n",
    "ax1.bar(bar_l,\n",
    "        # using the mid_score data\n",
    "        df['Summer'].ix[order],\n",
    "        # set the width\n",
    "        width=bar_width,\n",
    "        # with pre_score on the bottom\n",
    "        bottom=df['Spring'].ix[order],\n",
    "        # with the label mid score\n",
    "        label='Summer',\n",
    "        # with alpha 0.5\n",
    "        alpha=0.5,\n",
    "        # with color\n",
    "        color='#F1911E')\n",
    "\n",
    "# Create a bar plot, in position bar_1\n",
    "ax1.bar(bar_l,\n",
    "        # using the post_score data\n",
    "        df['Autumn'].ix[order],\n",
    "        # set the width\n",
    "        width=bar_width,\n",
    "        # with pre_score and mid_score on the bottom\n",
    "        bottom=[i+j for i,j in zip(df['Spring'].ix[order],df['Summer'].ix[order])],\n",
    "        # with the label post score\n",
    "        label='Autumn',\n",
    "        # with alpha 0.5\n",
    "        alpha=0.5,\n",
    "        # with color\n",
    "        color='#F1BD1A')\n",
    "\n",
    "# Create a bar plot, in position bar_1\n",
    "ax1.bar(bar_l,\n",
    "        # using the post_score data\n",
    "        df['Winter'].ix[order],\n",
    "        # set the width\n",
    "        width=bar_width,\n",
    "        # with pre_score and mid_score on the bottom\n",
    "        bottom=[i+j+k for i,j,k in zip(df['Spring'].ix[order],df['Summer'].ix[order],df['Autumn'].ix[order])],\n",
    "        # with the label post score\n",
    "        label='Winter',\n",
    "        # with alpha 0.5\n",
    "        alpha=0.5,\n",
    "        # with color\n",
    "        color='k')\n",
    "# set the x ticks with names\n",
    "plt.xticks(tick_pos, order)\n",
    "\n",
    "# Set the label and legends\n",
    "ax1.set_ylabel(\"Ventilation setting position (stacked)\")\n",
    "ax1.set_xlabel(\"House no\")\n",
    "plt.legend(loc='upper left')\n",
    "plt.title('Ventilation setting position (stacked): season breakdown 2014')\n",
    "plt.axvline(5.85,c = 'b',ls = 'dashed')\n",
    "plt.annotate('Type 505',xy = (1,1) , xytext=(3, 7))\n",
    "plt.annotate('Type 506',xy = (1,1) , xytext=(7.5,7))\n",
    "# Set a buffer around the edge\n",
    "plt.xlim([min(tick_pos)-bar_width, max(tick_pos)+bar_width])"
   ]
  },
  {
   "cell_type": "code",
   "execution_count": 85,
   "metadata": {
    "collapsed": false
   },
   "outputs": [
    {
     "data": {
      "text/html": [
       "<div>\n",
       "<table border=\"1\" class=\"dataframe\">\n",
       "  <thead>\n",
       "    <tr style=\"text-align: right;\">\n",
       "      <th></th>\n",
       "      <th>Mean</th>\n",
       "      <th>Std</th>\n",
       "    </tr>\n",
       "  </thead>\n",
       "  <tbody>\n",
       "    <tr>\n",
       "      <th>1</th>\n",
       "      <td>1.370069</td>\n",
       "      <td>0.283885</td>\n",
       "    </tr>\n",
       "    <tr>\n",
       "      <th>2</th>\n",
       "      <td>1.396660</td>\n",
       "      <td>0.128870</td>\n",
       "    </tr>\n",
       "    <tr>\n",
       "      <th>3</th>\n",
       "      <td>1.102532</td>\n",
       "      <td>0.061160</td>\n",
       "    </tr>\n",
       "    <tr>\n",
       "      <th>4</th>\n",
       "      <td>1.151718</td>\n",
       "      <td>0.148889</td>\n",
       "    </tr>\n",
       "    <tr>\n",
       "      <th>5</th>\n",
       "      <td>1.310414</td>\n",
       "      <td>0.392305</td>\n",
       "    </tr>\n",
       "    <tr>\n",
       "      <th>6</th>\n",
       "      <td>1.675050</td>\n",
       "      <td>0.191035</td>\n",
       "    </tr>\n",
       "    <tr>\n",
       "      <th>7</th>\n",
       "      <td>1.627763</td>\n",
       "      <td>0.406673</td>\n",
       "    </tr>\n",
       "    <tr>\n",
       "      <th>8</th>\n",
       "      <td>1.837929</td>\n",
       "      <td>0.316016</td>\n",
       "    </tr>\n",
       "    <tr>\n",
       "      <th>9</th>\n",
       "      <td>1.116018</td>\n",
       "      <td>0.056710</td>\n",
       "    </tr>\n",
       "    <tr>\n",
       "      <th>10</th>\n",
       "      <td>2.015978</td>\n",
       "      <td>0.014950</td>\n",
       "    </tr>\n",
       "  </tbody>\n",
       "</table>\n",
       "</div>"
      ],
      "text/plain": [
       "        Mean       Std\n",
       "1   1.370069  0.283885\n",
       "2   1.396660  0.128870\n",
       "3   1.102532  0.061160\n",
       "4   1.151718  0.148889\n",
       "5   1.310414  0.392305\n",
       "6   1.675050  0.191035\n",
       "7   1.627763  0.406673\n",
       "8   1.837929  0.316016\n",
       "9   1.116018  0.056710\n",
       "10  2.015978  0.014950"
      ]
     },
     "execution_count": 85,
     "metadata": {},
     "output_type": "execute_result"
    }
   ],
   "source": [
    "data = df[['Mean','Std']]\n",
    "#data = data.drop(data.index[[5,7]])#drop the rows with too small means\n",
    "data"
   ]
  },
  {
   "cell_type": "code",
   "execution_count": 86,
   "metadata": {
    "collapsed": false
   },
   "outputs": [],
   "source": [
    "from sklearn.preprocessing import scale\n",
    "data = scale(data)"
   ]
  },
  {
   "cell_type": "code",
   "execution_count": 87,
   "metadata": {
    "collapsed": false
   },
   "outputs": [
    {
     "data": {
      "text/plain": [
       "array([[-0.30082005,  0.62144176],\n",
       "       [-0.21228149, -0.52762199],\n",
       "       [-1.19164756, -1.02952624],\n",
       "       [-1.0278693 , -0.37923136],\n",
       "       [-0.49945521,  1.42511496],\n",
       "       [ 0.71468214, -0.06682088],\n",
       "       [ 0.55722908,  1.5316136 ],\n",
       "       [ 1.25702588,  0.85960962],\n",
       "       [-1.14674075, -1.06251692],\n",
       "       [ 1.84987727, -1.37206255]])"
      ]
     },
     "execution_count": 87,
     "metadata": {},
     "output_type": "execute_result"
    }
   ],
   "source": [
    "data"
   ]
  },
  {
   "cell_type": "code",
   "execution_count": 88,
   "metadata": {
    "collapsed": false
   },
   "outputs": [
    {
     "data": {
      "text/plain": [
       "KMeans(copy_x=True, init='k-means++', max_iter=300, n_clusters=3, n_init=10,\n",
       "    n_jobs=1, precompute_distances='auto', random_state=None, tol=0.0001,\n",
       "    verbose=0)"
      ]
     },
     "execution_count": 88,
     "metadata": {},
     "output_type": "execute_result"
    }
   ],
   "source": [
    "estimator = KMeans(n_clusters=3)\n",
    "estimator.fit(data)"
   ]
  },
  {
   "cell_type": "code",
   "execution_count": 89,
   "metadata": {
    "collapsed": false
   },
   "outputs": [
    {
     "name": "stdout",
     "output_type": "stream",
     "text": [
      "[0 1 1 1 0 0 0 0 1 2]\n"
     ]
    }
   ],
   "source": [
    "labels = estimator.labels_\n",
    "print estimator.labels_"
   ]
  },
  {
   "cell_type": "code",
   "execution_count": 90,
   "metadata": {
    "collapsed": false
   },
   "outputs": [
    {
     "data": {
      "image/png": "[encoded data removed]",
      "text/plain": [
       "<matplotlib.figure.Figure at 0x113584790>"
      ]
     },
     "metadata": {},
     "output_type": "display_data"
    }
   ],
   "source": [
    "xs = data[:,0]\n",
    "ys = data[:,1]\n",
    "plt.figure(figsize=(10,8))\n",
    "for i in range(0, len(labels)):\n",
    "    if labels[i] == 0:\n",
    "        c1 = plt.scatter(xs[i],ys[i],c='r',marker='o',s = 8*8)\n",
    "    elif labels[i] == 1:\n",
    "        c2 = plt.scatter(xs[i],ys[i],c='k',marker='x',s = 8*8)\n",
    "    elif labels[i] == 2:\n",
    "        c3 = plt.scatter(xs[i],ys[i],c='b',marker='*',s = 8*8)\n",
    "    elif labels[i] == 3:\n",
    "        c4 = plt.scatter(xs[i],ys[i],c='m',marker='^',s = 8*8)\n",
    "#plt.legend([c1, c2, c3], ['Low ventilation flow rate/Low inter season variation', 'Medium ventilation flow rate/High inter season variation','High open duration/Medium inter season variation'])\n",
    "plt.xlabel('Scaled mean ventilation setting position')\n",
    "plt.ylabel('Scaled seasonal standard deviation of position')\n",
    "plt.title('Clustering of ventilation system position setting (Year 2014)')\n",
    "\n",
    "housenum = ['House{0}'.format(i) for i in range(1,11)]\n",
    "for housenum, x, y in zip(housenum, xs, ys):\n",
    "    plt.annotate(\n",
    "        housenum, \n",
    "        xy = (x, y), xytext = (45, 0),\n",
    "        textcoords = 'offset points', ha = 'right', va = 'bottom',\n",
    "        bbox = dict(boxstyle = 'round,pad=0.3', fc = 'yellow', alpha = 0.5))"
   ]
  },
  {
   "cell_type": "code",
   "execution_count": null,
   "metadata": {
    "collapsed": true
   },
   "outputs": [],
   "source": []
  }
 ],
 "metadata": {
  "kernelspec": {
   "display_name": "Python 2",
   "language": "python",
   "name": "python2"
  },
  "language_info": {
   "codemirror_mode": {
    "name": "ipython",
    "version": 2
   },
   "file_extension": ".py",
   "mimetype": "text/x-python",
   "name": "python",
   "nbconvert_exporter": "python",
   "pygments_lexer": "ipython2",
   "version": "2.7.11"
  }
 },
 "nbformat": 4,
 "nbformat_minor": 0
}
