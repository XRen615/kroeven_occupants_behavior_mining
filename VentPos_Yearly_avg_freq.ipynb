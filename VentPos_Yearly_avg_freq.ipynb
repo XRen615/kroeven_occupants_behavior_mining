{
 "cells": [
  {
   "cell_type": "code",
   "execution_count": 126,
   "metadata": {
    "collapsed": false
   },
   "outputs": [],
   "source": [
    "import matplotlib.pyplot as plt\n",
    "%matplotlib inline\n",
    "import numpy as np\n",
    "import pandas as pd\n",
    "import seaborn as sns"
   ]
  },
  {
   "cell_type": "code",
   "execution_count": 127,
   "metadata": {
    "collapsed": false
   },
   "outputs": [
    {
     "name": "stdout",
     "output_type": "stream",
     "text": [
      "Change frequency:[541, 2599, 1267, 242, 34, 1073, 149, 1800, 2081, 109]\n"
     ]
    }
   ],
   "source": [
    "df = pd.DataFrame(columns = ['date_trunc','set_point_ventilation_unit', 'house no.'])\n",
    "freq = []\n",
    "for i in range (1,11):\n",
    "    path = '/Users/xinyuyangren/Desktop/Ventilation_Position/' + str(i) + '_ventpos.csv'\n",
    "    ventpos = pd.read_csv(path)\n",
    "    ventpos['house no.'] = i\n",
    "    df = df.append(ventpos)\n",
    "    \n",
    "    ## deal with the freq counting\n",
    "    spv = ventpos.set_point_ventilation_unit\n",
    "    opr = spv - spv.shift(-1)\n",
    "    opr = opr[opr!=0] \n",
    "    freqno = len (opr)\n",
    "    freq.append(freqno)\n",
    "print 'Change frequency:' + str(freq)\n"
   ]
  },
  {
   "cell_type": "code",
   "execution_count": 128,
   "metadata": {
    "collapsed": false
   },
   "outputs": [
    {
     "data": {
      "text/plain": [
       "<matplotlib.text.Text at 0x129fae710>"
      ]
     },
     "execution_count": 128,
     "metadata": {},
     "output_type": "execute_result"
    },
    {
     "data": {
      "image/png": "[encoded data removed]",
      "text/plain": [
       "<matplotlib.figure.Figure at 0x126156dd0>"
      ]
     },
     "metadata": {},
     "output_type": "display_data"
    }
   ],
   "source": [
    "plt.figure(figsize=(8,6))\n",
    "sns.set(style='ticks')\n",
    "freq = pd.DataFrame(freq,index=range(1,11))\n",
    "freq.columns = ['freq']\n",
    "order = [1,2,4,6,10,3,5,7,8,9]\n",
    "sns.barplot(x=freq.index, y=\"freq\", data=freq, color = '#F4561D',order = order)\n",
    "plt.axvline(4.5,c = 'b',ls = 'dashed')\n",
    "plt.annotate('Type 505',xy = (1,1) , xytext=(1.5, 2800))\n",
    "plt.annotate('Type 506',xy = (1,1) , xytext=(6, 2800))\n",
    "plt.title('Ventilation setting position changes')\n",
    "plt.xlabel('House no.')\n",
    "plt.ylabel('No. of changes')"
   ]
  },
  {
   "cell_type": "code",
   "execution_count": 129,
   "metadata": {
    "collapsed": false
   },
   "outputs": [],
   "source": [
    "df.date_trunc = pd.to_datetime(df.date_trunc)\n",
    "t = pd.DatetimeIndex(df.date_trunc)\n",
    "hr = t.hour\n",
    "df['HourOfDay'] = hr\n",
    "month = t.month\n",
    "df['Month'] = month\n",
    "year = t.year\n",
    "df['Year'] = year\n",
    "df_2013 = df[df['Year'] == 2013]\n",
    "df_2014 = df[df['Year'] == 2014]\n",
    "df1 = pd.concat([df_2013,df_2014])\n",
    "#df1 = df1.dropna()"
   ]
  },
  {
   "cell_type": "code",
   "execution_count": 130,
   "metadata": {
    "collapsed": false
   },
   "outputs": [
    {
     "data": {
      "text/html": [
       "<div>\n",
       "<table border=\"1\" class=\"dataframe\">\n",
       "  <thead>\n",
       "    <tr style=\"text-align: right;\">\n",
       "      <th></th>\n",
       "      <th>set_point_ventilation_unit</th>\n",
       "      <th>house no.</th>\n",
       "      <th>HourOfDay</th>\n",
       "      <th>Month</th>\n",
       "      <th>Year</th>\n",
       "    </tr>\n",
       "  </thead>\n",
       "  <tbody>\n",
       "    <tr>\n",
       "      <th>count</th>\n",
       "      <td>8754.000000</td>\n",
       "      <td>8754</td>\n",
       "      <td>8754.000000</td>\n",
       "      <td>8754.000000</td>\n",
       "      <td>8754</td>\n",
       "    </tr>\n",
       "    <tr>\n",
       "      <th>mean</th>\n",
       "      <td>2.015878</td>\n",
       "      <td>10</td>\n",
       "      <td>11.494517</td>\n",
       "      <td>6.522276</td>\n",
       "      <td>2014</td>\n",
       "    </tr>\n",
       "    <tr>\n",
       "      <th>std</th>\n",
       "      <td>0.138867</td>\n",
       "      <td>0</td>\n",
       "      <td>6.921639</td>\n",
       "      <td>3.446249</td>\n",
       "      <td>0</td>\n",
       "    </tr>\n",
       "    <tr>\n",
       "      <th>min</th>\n",
       "      <td>1.000000</td>\n",
       "      <td>10</td>\n",
       "      <td>0.000000</td>\n",
       "      <td>1.000000</td>\n",
       "      <td>2014</td>\n",
       "    </tr>\n",
       "    <tr>\n",
       "      <th>25%</th>\n",
       "      <td>2.000000</td>\n",
       "      <td>10</td>\n",
       "      <td>5.000000</td>\n",
       "      <td>4.000000</td>\n",
       "      <td>2014</td>\n",
       "    </tr>\n",
       "    <tr>\n",
       "      <th>50%</th>\n",
       "      <td>2.000000</td>\n",
       "      <td>10</td>\n",
       "      <td>11.000000</td>\n",
       "      <td>7.000000</td>\n",
       "      <td>2014</td>\n",
       "    </tr>\n",
       "    <tr>\n",
       "      <th>75%</th>\n",
       "      <td>2.000000</td>\n",
       "      <td>10</td>\n",
       "      <td>17.000000</td>\n",
       "      <td>10.000000</td>\n",
       "      <td>2014</td>\n",
       "    </tr>\n",
       "    <tr>\n",
       "      <th>max</th>\n",
       "      <td>3.000000</td>\n",
       "      <td>10</td>\n",
       "      <td>23.000000</td>\n",
       "      <td>12.000000</td>\n",
       "      <td>2014</td>\n",
       "    </tr>\n",
       "  </tbody>\n",
       "</table>\n",
       "</div>"
      ],
      "text/plain": [
       "       set_point_ventilation_unit  house no.    HourOfDay        Month  Year\n",
       "count                 8754.000000       8754  8754.000000  8754.000000  8754\n",
       "mean                     2.015878         10    11.494517     6.522276  2014\n",
       "std                      0.138867          0     6.921639     3.446249     0\n",
       "min                      1.000000         10     0.000000     1.000000  2014\n",
       "25%                      2.000000         10     5.000000     4.000000  2014\n",
       "50%                      2.000000         10    11.000000     7.000000  2014\n",
       "75%                      2.000000         10    17.000000    10.000000  2014\n",
       "max                      3.000000         10    23.000000    12.000000  2014"
      ]
     },
     "execution_count": 130,
     "metadata": {},
     "output_type": "execute_result"
    }
   ],
   "source": [
    "d = df1[(df1['house no.'] == 10) & (df1['Year']==2014)]\n",
    "d.describe()"
   ]
  },
  {
   "cell_type": "code",
   "execution_count": 131,
   "metadata": {
    "collapsed": false
   },
   "outputs": [
    {
     "data": {
      "text/plain": [
       "<matplotlib.text.Annotation at 0x127cdc990>"
      ]
     },
     "execution_count": 131,
     "metadata": {},
     "output_type": "execute_result"
    },
    {
     "data": {
      "image/png": "[encoded data removed]",
      "text/plain": [
       "<matplotlib.figure.Figure at 0x128ff94d0>"
      ]
     },
     "metadata": {},
     "output_type": "display_data"
    }
   ],
   "source": [
    "plt.figure(figsize=(8,6))\n",
    "sns.set(style='ticks')\n",
    "# Draw a nested boxplot to show bills by day and sex\n",
    "order = [1,2,4,6,10,3,5,7,8,9]\n",
    "sns.barplot(x=\"house no.\", y=\"set_point_ventilation_unit\", hue=\"Year\", data=df1, palette=\"PRGn\",order = order)\n",
    "plt.xlabel('House No.')\n",
    "plt.ylabel('Yearly average ventilation position')\n",
    "plt.title('Yearly average ventilation position')\n",
    "plt.axvline(4.5,c = 'b',ls = 'dashed')\n",
    "plt.annotate('Type 505',xy = (1,1) , xytext=(1.5, 2.1))\n",
    "plt.annotate('Type 506',xy = (1,1) , xytext=(6, 2.1))"
   ]
  }
 ],
 "metadata": {
  "kernelspec": {
   "display_name": "Python 2",
   "language": "python",
   "name": "python2"
  },
  "language_info": {
   "codemirror_mode": {
    "name": "ipython",
    "version": 2
   },
   "file_extension": ".py",
   "mimetype": "text/x-python",
   "name": "python",
   "nbconvert_exporter": "python",
   "pygments_lexer": "ipython2",
   "version": "2.7.11"
  }
 },
 "nbformat": 4,
 "nbformat_minor": 0
}
