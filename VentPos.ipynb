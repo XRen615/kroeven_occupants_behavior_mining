{
 "cells": [
  {
   "cell_type": "code",
   "execution_count": 256,
   "metadata": {
    "collapsed": false
   },
   "outputs": [],
   "source": [
    "import matplotlib.pyplot as plt\n",
    "%matplotlib inline\n",
    "import numpy as np\n",
    "import pandas as pd\n",
    "import seaborn as sns"
   ]
  },
  {
   "cell_type": "code",
   "execution_count": 257,
   "metadata": {
    "collapsed": false
   },
   "outputs": [],
   "source": [
    "ventpos = pd.read_csv(\"/Users/xinyuyangren/Desktop/Ventilation_Position/1000_ventpos.csv\")"
   ]
  },
  {
   "cell_type": "code",
   "execution_count": 258,
   "metadata": {
    "collapsed": false
   },
   "outputs": [],
   "source": [
    "#generate month/hour attribute from datetime string\n",
    "ventpos.date_trunc = pd.to_datetime(ventpos.date_trunc)\n",
    "t = pd.DatetimeIndex(ventpos.date_trunc)\n",
    "hr = t.hour\n",
    "ventpos['HourOfDay'] = hr\n",
    "month = t.month\n",
    "ventpos['Month'] = month\n",
    "year = t.year\n",
    "ventpos['Year'] = year"
   ]
  },
  {
   "cell_type": "code",
   "execution_count": 259,
   "metadata": {
    "collapsed": false
   },
   "outputs": [
    {
     "name": "stderr",
     "output_type": "stream",
     "text": [
      "/Users/xinyuyangren/anaconda/lib/python2.7/site-packages/ipykernel/__main__.py:3: SettingWithCopyWarning: \n",
      "A value is trying to be set on a copy of a slice from a DataFrame.\n",
      "Try using .loc[row_indexer,col_indexer] = value instead\n",
      "\n",
      "See the caveats in the documentation: http://pandas.pydata.org/pandas-docs/stable/indexing.html#indexing-view-versus-copy\n",
      "  app.launch_new_instance()\n",
      "/Users/xinyuyangren/anaconda/lib/python2.7/site-packages/ipykernel/__main__.py:5: SettingWithCopyWarning: \n",
      "A value is trying to be set on a copy of a slice from a DataFrame.\n",
      "Try using .loc[row_indexer,col_indexer] = value instead\n",
      "\n",
      "See the caveats in the documentation: http://pandas.pydata.org/pandas-docs/stable/indexing.html#indexing-view-versus-copy\n",
      "/Users/xinyuyangren/anaconda/lib/python2.7/site-packages/ipykernel/__main__.py:7: SettingWithCopyWarning: \n",
      "A value is trying to be set on a copy of a slice from a DataFrame.\n",
      "Try using .loc[row_indexer,col_indexer] = value instead\n",
      "\n",
      "See the caveats in the documentation: http://pandas.pydata.org/pandas-docs/stable/indexing.html#indexing-view-versus-copy\n"
     ]
    }
   ],
   "source": [
    "# Dividing the 4 seasons and 2 years: 2013 and 2014\n",
    "ventpos_Spring_2013 = ventpos[(ventpos.Month >= 3) & (ventpos.Month <= 5) & (ventpos.Year == 2013)]\n",
    "ventpos_Spring_2013['Season']='Spring'\n",
    "ventpos_Summer_2013 = ventpos[(ventpos.Month >= 6) & (ventpos.Month <= 8) & (ventpos.Year == 2013)]\n",
    "ventpos_Summer_2013['Season']='Summer'\n",
    "ventpos_Autumn_2013 = ventpos[(ventpos.Month >= 9) & (ventpos.Month <= 11) & (ventpos.Year == 2013)]\n",
    "ventpos_Autumn_2013['Season']='Autumn'\n",
    "ventpos_Winter_2013_1 = ventpos[(ventpos.Month == 12) & (ventpos.Year == 2013)]\n",
    "ventpos_Winter_2013_2 = ventpos[(ventpos.Month <= 2) & (ventpos.Year == 2013)]      \n",
    "ventpos_Winter_2013 = pd.concat([ventpos_Winter_2013_1,ventpos_Winter_2013_2])\n",
    "ventpos_Winter_2013['Season']='Winter'\n",
    "ventpos_seasons_2013 = pd.concat([ventpos_Spring_2013,ventpos_Summer_2013,ventpos_Autumn_2013,ventpos_Winter_2013])\n",
    "#Behav_Winter.to_csv('/Users/xinyuyangren/Desktop/0200_winter')"
   ]
  },
  {
   "cell_type": "code",
   "execution_count": 260,
   "metadata": {
    "collapsed": false
   },
   "outputs": [
    {
     "name": "stderr",
     "output_type": "stream",
     "text": [
      "/Users/xinyuyangren/anaconda/lib/python2.7/site-packages/ipykernel/__main__.py:2: SettingWithCopyWarning: \n",
      "A value is trying to be set on a copy of a slice from a DataFrame.\n",
      "Try using .loc[row_indexer,col_indexer] = value instead\n",
      "\n",
      "See the caveats in the documentation: http://pandas.pydata.org/pandas-docs/stable/indexing.html#indexing-view-versus-copy\n",
      "  from ipykernel import kernelapp as app\n",
      "/Users/xinyuyangren/anaconda/lib/python2.7/site-packages/ipykernel/__main__.py:4: SettingWithCopyWarning: \n",
      "A value is trying to be set on a copy of a slice from a DataFrame.\n",
      "Try using .loc[row_indexer,col_indexer] = value instead\n",
      "\n",
      "See the caveats in the documentation: http://pandas.pydata.org/pandas-docs/stable/indexing.html#indexing-view-versus-copy\n",
      "/Users/xinyuyangren/anaconda/lib/python2.7/site-packages/ipykernel/__main__.py:6: SettingWithCopyWarning: \n",
      "A value is trying to be set on a copy of a slice from a DataFrame.\n",
      "Try using .loc[row_indexer,col_indexer] = value instead\n",
      "\n",
      "See the caveats in the documentation: http://pandas.pydata.org/pandas-docs/stable/indexing.html#indexing-view-versus-copy\n"
     ]
    }
   ],
   "source": [
    "ventpos_Spring_2014 = ventpos[(ventpos.Month >= 3) & (ventpos.Month <= 5) & (ventpos.Year == 2014)]\n",
    "ventpos_Spring_2014['Season']='Spring'\n",
    "ventpos_Summer_2014 = ventpos[(ventpos.Month >= 6) & (ventpos.Month <= 8) & (ventpos.Year == 2014)]\n",
    "ventpos_Summer_2014['Season']='Summer'\n",
    "ventpos_Autumn_2014 = ventpos[(ventpos.Month >= 9) & (ventpos.Month <= 11) & (ventpos.Year == 2014)]\n",
    "ventpos_Autumn_2014['Season']='Autumn'\n",
    "ventpos_Winter_2014_1 = ventpos[(ventpos.Month == 12) & (ventpos.Year == 2014)]\n",
    "ventpos_Winter_2014_2 = ventpos[(ventpos.Month <= 2) & (ventpos.Year == 2014)]      \n",
    "ventpos_Winter_2014 = pd.concat([ventpos_Winter_2014_1,ventpos_Winter_2014_2])\n",
    "ventpos_Winter_2014['Season']='Winter'\n",
    "ventpos_seasons_2014 = pd.concat([ventpos_Spring_2014,ventpos_Summer_2014,ventpos_Autumn_2014,ventpos_Winter_2014])"
   ]
  },
  {
   "cell_type": "code",
   "execution_count": 261,
   "metadata": {
    "collapsed": false
   },
   "outputs": [
    {
     "name": "stdout",
     "output_type": "stream",
     "text": [
      "2.0109739369 2.0 2.00732600733 1.98888888889\n"
     ]
    }
   ],
   "source": [
    "#Mean pulse break down by seasons\n",
    "avg1 = np.mean(ventpos_Spring_2013['set_point_ventilation_unit'])\n",
    "avg2 = np.mean(ventpos_Summer_2013['set_point_ventilation_unit'])\n",
    "avg3 = np.mean(ventpos_Autumn_2013['set_point_ventilation_unit'])\n",
    "avg4 = np.mean(ventpos_Winter_2013['set_point_ventilation_unit'])\n",
    "print avg1,avg2,avg3,avg4\n",
    "s = pd.Series((avg1,avg2,avg3,avg4), index=['Spring', 'Summer', 'Autumn', 'Winter'])\n",
    "s = s.to_frame()\n",
    "s = s.transpose()\n",
    "s.to_csv('/Users/xinyuyangren/Desktop/Ventilation_Position/ventpos_2013.csv',mode='a', header=False , index=False)"
   ]
  },
  {
   "cell_type": "code",
   "execution_count": 262,
   "metadata": {
    "collapsed": false
   },
   "outputs": [
    {
     "name": "stdout",
     "output_type": "stream",
     "text": [
      "2.02038043478 2.00362318841 2.00137362637 2.03853296193\n"
     ]
    }
   ],
   "source": [
    "#Mean pulse break down by seasons\n",
    "avg21 = np.mean(ventpos_Spring_2014['set_point_ventilation_unit'])\n",
    "avg22 = np.mean(ventpos_Summer_2014['set_point_ventilation_unit'])\n",
    "avg23 = np.mean(ventpos_Autumn_2014['set_point_ventilation_unit'])\n",
    "avg24 = np.mean(ventpos_Winter_2014['set_point_ventilation_unit'])\n",
    "print avg21, avg22, avg23, avg24\n",
    "s2 = pd.Series((avg21,avg22,avg23,avg24), index=['Spring', 'Summer', 'Autumn', 'Winter'])\n",
    "s2 = s2.to_frame()\n",
    "s2 = s2.transpose()\n",
    "s2.to_csv('/Users/xinyuyangren/Desktop/Ventilation_Position/ventpos_2014.csv',mode='a', header=False , index=False)"
   ]
  },
  {
   "cell_type": "code",
   "execution_count": 263,
   "metadata": {
    "collapsed": false,
    "scrolled": false
   },
   "outputs": [
    {
     "data": {
      "text/plain": [
       "<matplotlib.legend.Legend at 0x1142bc210>"
      ]
     },
     "execution_count": 263,
     "metadata": {},
     "output_type": "execute_result"
    },
    {
     "data": {
      "image/png": "[encoded data removed]",
      "text/plain": [
       "<matplotlib.figure.Figure at 0x113e15950>"
      ]
     },
     "metadata": {},
     "output_type": "display_data"
    }
   ],
   "source": [
    "plt.figure(figsize=(8,6))\n",
    "seq = range (1,4)\n",
    "sns.countplot( x =\"set_point_ventilation_unit\",hue = \"Season\",data = ventpos_seasons_2013,order = seq)\n",
    "plt.xlabel('Ventilation system flowrate pulse')\n",
    "#plt.ylim(0,70000)\n",
    "plt.title('Ventilation unit position count by seasons')\n",
    "plt.legend(loc = 'upper right')"
   ]
  },
  {
   "cell_type": "code",
   "execution_count": 264,
   "metadata": {
    "collapsed": false
   },
   "outputs": [
    {
     "data": {
      "text/plain": [
       "<matplotlib.legend.Legend at 0x114382dd0>"
      ]
     },
     "execution_count": 264,
     "metadata": {},
     "output_type": "execute_result"
    },
    {
     "data": {
      "image/png": "[encoded data removed]",
      "text/plain": [
       "<matplotlib.figure.Figure at 0x114382b90>"
      ]
     },
     "metadata": {},
     "output_type": "display_data"
    }
   ],
   "source": [
    "plt.figure(figsize=(8,6))\n",
    "seq = range (1,4)\n",
    "sns.countplot( x =\"set_point_ventilation_unit\",hue = \"Season\",data = ventpos_seasons_2014,order = seq)\n",
    "plt.xlabel('Ventilation system flowrate pulse')\n",
    "#plt.ylim(0,70000)\n",
    "plt.title('Ventilation unit position count by seasons')\n",
    "plt.legend(loc = 'upper right')"
   ]
  },
  {
   "cell_type": "code",
   "execution_count": null,
   "metadata": {
    "collapsed": true
   },
   "outputs": [],
   "source": []
  }
 ],
 "metadata": {
  "kernelspec": {
   "display_name": "Python 2",
   "language": "python",
   "name": "python2"
  },
  "language_info": {
   "codemirror_mode": {
    "name": "ipython",
    "version": 2
   },
   "file_extension": ".py",
   "mimetype": "text/x-python",
   "name": "python",
   "nbconvert_exporter": "python",
   "pygments_lexer": "ipython2",
   "version": "2.7.11"
  }
 },
 "nbformat": 4,
 "nbformat_minor": 0
}
