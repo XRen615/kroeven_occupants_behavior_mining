{
 "cells": [
  {
   "cell_type": "markdown",
   "metadata": {},
   "source": [
    "Clustering_Vent_Pulse"
   ]
  },
  {
   "cell_type": "code",
   "execution_count": 1,
   "metadata": {
    "collapsed": false
   },
   "outputs": [
    {
     "name": "stderr",
     "output_type": "stream",
     "text": [
      "/Users/xinyuyangren/anaconda/lib/python2.7/site-packages/matplotlib/__init__.py:872: UserWarning: axes.color_cycle is deprecated and replaced with axes.prop_cycle; please use the latter.\n",
      "  warnings.warn(self.msg_depr % (key, alt_key))\n"
     ]
    }
   ],
   "source": [
    "import matplotlib.pyplot as plt\n",
    "%matplotlib inline\n",
    "import numpy as np\n",
    "import pandas as pd\n",
    "import seaborn as sns\n",
    "from sklearn.cluster import KMeans"
   ]
  },
  {
   "cell_type": "code",
   "execution_count": 2,
   "metadata": {
    "collapsed": false
   },
   "outputs": [
    {
     "data": {
      "text/html": [
       "<div>\n",
       "<table border=\"1\" class=\"dataframe\">\n",
       "  <thead>\n",
       "    <tr style=\"text-align: right;\">\n",
       "      <th></th>\n",
       "      <th>Spring</th>\n",
       "      <th>Summer</th>\n",
       "      <th>Autumn</th>\n",
       "      <th>Winter</th>\n",
       "      <th>Mean</th>\n",
       "      <th>Std</th>\n",
       "      <th>RSD</th>\n",
       "    </tr>\n",
       "  </thead>\n",
       "  <tbody>\n",
       "    <tr>\n",
       "      <th>1</th>\n",
       "      <td>5.303008</td>\n",
       "      <td>5.993574</td>\n",
       "      <td>5.276186</td>\n",
       "      <td>4.798611</td>\n",
       "      <td>5.342845</td>\n",
       "      <td>0.425931</td>\n",
       "      <td>0.079720</td>\n",
       "    </tr>\n",
       "    <tr>\n",
       "      <th>2</th>\n",
       "      <td>5.375268</td>\n",
       "      <td>5.319643</td>\n",
       "      <td>5.883597</td>\n",
       "      <td>4.932000</td>\n",
       "      <td>5.377627</td>\n",
       "      <td>0.338362</td>\n",
       "      <td>0.062920</td>\n",
       "    </tr>\n",
       "    <tr>\n",
       "      <th>3</th>\n",
       "      <td>1.877374</td>\n",
       "      <td>1.695880</td>\n",
       "      <td>2.035876</td>\n",
       "      <td>2.045957</td>\n",
       "      <td>1.913772</td>\n",
       "      <td>0.142464</td>\n",
       "      <td>0.074441</td>\n",
       "    </tr>\n",
       "    <tr>\n",
       "      <th>4</th>\n",
       "      <td>5.109499</td>\n",
       "      <td>4.637418</td>\n",
       "      <td>3.810159</td>\n",
       "      <td>4.644916</td>\n",
       "      <td>4.550498</td>\n",
       "      <td>0.468256</td>\n",
       "      <td>0.102902</td>\n",
       "    </tr>\n",
       "    <tr>\n",
       "      <th>5</th>\n",
       "      <td>2.834030</td>\n",
       "      <td>2.797832</td>\n",
       "      <td>3.312382</td>\n",
       "      <td>2.943510</td>\n",
       "      <td>2.971938</td>\n",
       "      <td>0.203741</td>\n",
       "      <td>0.068555</td>\n",
       "    </tr>\n",
       "    <tr>\n",
       "      <th>6</th>\n",
       "      <td>5.455359</td>\n",
       "      <td>6.164296</td>\n",
       "      <td>6.237695</td>\n",
       "      <td>6.353654</td>\n",
       "      <td>6.052751</td>\n",
       "      <td>0.351449</td>\n",
       "      <td>0.058064</td>\n",
       "    </tr>\n",
       "    <tr>\n",
       "      <th>7</th>\n",
       "      <td>2.685343</td>\n",
       "      <td>3.452541</td>\n",
       "      <td>3.555953</td>\n",
       "      <td>3.175053</td>\n",
       "      <td>3.217222</td>\n",
       "      <td>0.337190</td>\n",
       "      <td>0.104808</td>\n",
       "    </tr>\n",
       "    <tr>\n",
       "      <th>8</th>\n",
       "      <td>3.701266</td>\n",
       "      <td>4.146841</td>\n",
       "      <td>4.262342</td>\n",
       "      <td>4.276592</td>\n",
       "      <td>4.096760</td>\n",
       "      <td>0.233816</td>\n",
       "      <td>0.057074</td>\n",
       "    </tr>\n",
       "    <tr>\n",
       "      <th>9</th>\n",
       "      <td>2.500682</td>\n",
       "      <td>2.707735</td>\n",
       "      <td>2.564800</td>\n",
       "      <td>2.589074</td>\n",
       "      <td>2.590573</td>\n",
       "      <td>0.074956</td>\n",
       "      <td>0.028934</td>\n",
       "    </tr>\n",
       "    <tr>\n",
       "      <th>10</th>\n",
       "      <td>10.424042</td>\n",
       "      <td>10.493249</td>\n",
       "      <td>10.586293</td>\n",
       "      <td>9.758939</td>\n",
       "      <td>10.315631</td>\n",
       "      <td>0.326522</td>\n",
       "      <td>0.031653</td>\n",
       "    </tr>\n",
       "  </tbody>\n",
       "</table>\n",
       "</div>"
      ],
      "text/plain": [
       "       Spring     Summer     Autumn    Winter       Mean       Std       RSD\n",
       "1    5.303008   5.993574   5.276186  4.798611   5.342845  0.425931  0.079720\n",
       "2    5.375268   5.319643   5.883597  4.932000   5.377627  0.338362  0.062920\n",
       "3    1.877374   1.695880   2.035876  2.045957   1.913772  0.142464  0.074441\n",
       "4    5.109499   4.637418   3.810159  4.644916   4.550498  0.468256  0.102902\n",
       "5    2.834030   2.797832   3.312382  2.943510   2.971938  0.203741  0.068555\n",
       "6    5.455359   6.164296   6.237695  6.353654   6.052751  0.351449  0.058064\n",
       "7    2.685343   3.452541   3.555953  3.175053   3.217222  0.337190  0.104808\n",
       "8    3.701266   4.146841   4.262342  4.276592   4.096760  0.233816  0.057074\n",
       "9    2.500682   2.707735   2.564800  2.589074   2.590573  0.074956  0.028934\n",
       "10  10.424042  10.493249  10.586293  9.758939  10.315631  0.326522  0.031653"
      ]
     },
     "execution_count": 2,
     "metadata": {},
     "output_type": "execute_result"
    }
   ],
   "source": [
    "df = pd.read_excel('/Users/xinyuyangren/Desktop/Paper/ventbyseasons.xlsx')\n",
    "df"
   ]
  },
  {
   "cell_type": "code",
   "execution_count": 3,
   "metadata": {
    "collapsed": false
   },
   "outputs": [
    {
     "data": {
      "text/plain": [
       "(0.625, 11.125)"
      ]
     },
     "execution_count": 3,
     "metadata": {},
     "output_type": "execute_result"
    },
    {
     "data": {
      "image/png": "[encoded data removed]",
      "text/plain": [
       "<matplotlib.figure.Figure at 0x10c088710>"
      ]
     },
     "metadata": {},
     "output_type": "display_data"
    }
   ],
   "source": [
    "#Stacked bar plot\n",
    "# Create the general blog and the \"subplots\" i.e. the bars\n",
    "f, ax1 = plt.subplots(1, figsize=(10,5))\n",
    "\n",
    "# Set the bar width\n",
    "bar_width = 0.75\n",
    "\n",
    "# positions of the left bar-boundaries\n",
    "bar_l = [i+1 for i in range(len(df['Spring']))]\n",
    "\n",
    "# positions of the x-axis ticks (center of the bars as bar labels)\n",
    "tick_pos = [i+(bar_width/2) for i in bar_l]\n",
    "\n",
    "# Create a bar plot, in position bar_1\n",
    "ax1.bar(bar_l,\n",
    "        # using the pre_score data\n",
    "        df['Spring'],\n",
    "        # set the width\n",
    "        width=bar_width,\n",
    "        # with the label pre score\n",
    "        label='Spring',\n",
    "        # with alpha 0.5\n",
    "        alpha=0.5,\n",
    "        # with color\n",
    "        color='#F4561D')\n",
    "\n",
    "# Create a bar plot, in position bar_1\n",
    "ax1.bar(bar_l,\n",
    "        # using the mid_score data\n",
    "        df['Summer'],\n",
    "        # set the width\n",
    "        width=bar_width,\n",
    "        # with pre_score on the bottom\n",
    "        bottom=df['Spring'],\n",
    "        # with the label mid score\n",
    "        label='Summer',\n",
    "        # with alpha 0.5\n",
    "        alpha=0.5,\n",
    "        # with color\n",
    "        color='#F1911E')\n",
    "\n",
    "# Create a bar plot, in position bar_1\n",
    "ax1.bar(bar_l,\n",
    "        # using the post_score data\n",
    "        df['Autumn'],\n",
    "        # set the width\n",
    "        width=bar_width,\n",
    "        # with pre_score and mid_score on the bottom\n",
    "        bottom=[i+j for i,j in zip(df['Spring'],df['Summer'])],\n",
    "        # with the label post score\n",
    "        label='Autumn',\n",
    "        # with alpha 0.5\n",
    "        alpha=0.5,\n",
    "        # with color\n",
    "        color='#F1BD1A')\n",
    "\n",
    "# Create a bar plot, in position bar_1\n",
    "ax1.bar(bar_l,\n",
    "        # using the post_score data\n",
    "        df['Winter'],\n",
    "        # set the width\n",
    "        width=bar_width,\n",
    "        # with pre_score and mid_score on the bottom\n",
    "        bottom=[i+j+k for i,j,k in zip(df['Spring'],df['Summer'],df['Autumn'])],\n",
    "        # with the label post score\n",
    "        label='Winter',\n",
    "        # with alpha 0.5\n",
    "        alpha=0.5,\n",
    "        # with color\n",
    "        color='k')\n",
    "# set the x ticks with names\n",
    "plt.xticks(tick_pos, df.index)\n",
    "\n",
    "# Set the label and legends\n",
    "ax1.set_ylabel(\"Ventilation flowrate pulse (stacked)\")\n",
    "ax1.set_xlabel(\"House no\")\n",
    "plt.legend(loc='upper left')\n",
    "plt.title('Ventilation flowrate (stacked): season breakdown')\n",
    "\n",
    "# Set a buffer around the edge\n",
    "plt.xlim([min(tick_pos)-bar_width, max(tick_pos)+bar_width])"
   ]
  },
  {
   "cell_type": "code",
   "execution_count": 4,
   "metadata": {
    "collapsed": false
   },
   "outputs": [
    {
     "data": {
      "text/html": [
       "<div>\n",
       "<table border=\"1\" class=\"dataframe\">\n",
       "  <thead>\n",
       "    <tr style=\"text-align: right;\">\n",
       "      <th></th>\n",
       "      <th>Mean</th>\n",
       "      <th>Std</th>\n",
       "    </tr>\n",
       "  </thead>\n",
       "  <tbody>\n",
       "    <tr>\n",
       "      <th>1</th>\n",
       "      <td>5.342845</td>\n",
       "      <td>0.425931</td>\n",
       "    </tr>\n",
       "    <tr>\n",
       "      <th>2</th>\n",
       "      <td>5.377627</td>\n",
       "      <td>0.338362</td>\n",
       "    </tr>\n",
       "    <tr>\n",
       "      <th>3</th>\n",
       "      <td>1.913772</td>\n",
       "      <td>0.142464</td>\n",
       "    </tr>\n",
       "    <tr>\n",
       "      <th>4</th>\n",
       "      <td>4.550498</td>\n",
       "      <td>0.468256</td>\n",
       "    </tr>\n",
       "    <tr>\n",
       "      <th>5</th>\n",
       "      <td>2.971938</td>\n",
       "      <td>0.203741</td>\n",
       "    </tr>\n",
       "    <tr>\n",
       "      <th>6</th>\n",
       "      <td>6.052751</td>\n",
       "      <td>0.351449</td>\n",
       "    </tr>\n",
       "    <tr>\n",
       "      <th>7</th>\n",
       "      <td>3.217222</td>\n",
       "      <td>0.337190</td>\n",
       "    </tr>\n",
       "    <tr>\n",
       "      <th>8</th>\n",
       "      <td>4.096760</td>\n",
       "      <td>0.233816</td>\n",
       "    </tr>\n",
       "    <tr>\n",
       "      <th>9</th>\n",
       "      <td>2.590573</td>\n",
       "      <td>0.074956</td>\n",
       "    </tr>\n",
       "    <tr>\n",
       "      <th>10</th>\n",
       "      <td>10.315631</td>\n",
       "      <td>0.326522</td>\n",
       "    </tr>\n",
       "  </tbody>\n",
       "</table>\n",
       "</div>"
      ],
      "text/plain": [
       "         Mean       Std\n",
       "1    5.342845  0.425931\n",
       "2    5.377627  0.338362\n",
       "3    1.913772  0.142464\n",
       "4    4.550498  0.468256\n",
       "5    2.971938  0.203741\n",
       "6    6.052751  0.351449\n",
       "7    3.217222  0.337190\n",
       "8    4.096760  0.233816\n",
       "9    2.590573  0.074956\n",
       "10  10.315631  0.326522"
      ]
     },
     "execution_count": 4,
     "metadata": {},
     "output_type": "execute_result"
    }
   ],
   "source": [
    "data = df[['Mean','Std']]\n",
    "#data = data.drop(data.index[[5,7]])#drop the rows with too small means\n",
    "data"
   ]
  },
  {
   "cell_type": "code",
   "execution_count": 5,
   "metadata": {
    "collapsed": false
   },
   "outputs": [],
   "source": [
    "from sklearn.preprocessing import scale\n",
    "data = scale(data)"
   ]
  },
  {
   "cell_type": "code",
   "execution_count": 9,
   "metadata": {
    "collapsed": false
   },
   "outputs": [
    {
     "data": {
      "text/plain": [
       "KMeans(copy_x=True, init='k-means++', max_iter=300, n_clusters=3, n_init=10,\n",
       "    n_jobs=1, precompute_distances='auto', random_state=None, tol=0.0001,\n",
       "    verbose=0)"
      ]
     },
     "execution_count": 9,
     "metadata": {},
     "output_type": "execute_result"
    }
   ],
   "source": [
    "estimator = KMeans(n_clusters=3)\n",
    "estimator.fit(data)"
   ]
  },
  {
   "cell_type": "code",
   "execution_count": 10,
   "metadata": {
    "collapsed": false
   },
   "outputs": [
    {
     "name": "stdout",
     "output_type": "stream",
     "text": [
      "[1 1 0 1 0 1 1 0 0 2]\n"
     ]
    }
   ],
   "source": [
    "labels = estimator.labels_\n",
    "print estimator.labels_"
   ]
  },
  {
   "cell_type": "code",
   "execution_count": 12,
   "metadata": {
    "collapsed": false
   },
   "outputs": [
    {
     "data": {
      "image/png": "[encoded data removed]",
      "text/plain": [
       "<matplotlib.figure.Figure at 0x10cc137d0>"
      ]
     },
     "metadata": {},
     "output_type": "display_data"
    }
   ],
   "source": [
    "xs = data[:,0]\n",
    "ys = data[:,1]\n",
    "plt.figure(figsize=(10,8))\n",
    "for i in range(0, len(labels)):\n",
    "    if labels[i] == 0:\n",
    "        c1 = plt.scatter(xs[i],ys[i],c='r',marker='o',s = 8*8)\n",
    "    elif labels[i] == 1:\n",
    "        c2 = plt.scatter(xs[i],ys[i],c='k',marker='x',s = 8*8)\n",
    "    elif labels[i] == 2:\n",
    "        c3 = plt.scatter(xs[i],ys[i],c='b',marker='*',s = 8*8)\n",
    "    elif labels[i] == 3:\n",
    "        c4 = plt.scatter(xs[i],ys[i],c='m',marker='^',s = 8*8)\n",
    "plt.legend([c1, c2, c3], ['Low ventilation flow rate/Low inter season variation', 'Medium ventilation flow rate/High inter season variation','High open duration/Medium inter season variation'])\n",
    "plt.xlabel('Scaled index of mean ventilation flow rate')\n",
    "plt.ylabel('Scaled index of seasonal relative standard deviation (RSD)')\n",
    "plt.title('Clustering of ventilation system flow rate')\n",
    "\n",
    "housenum = ['House{0}'.format(i) for i in range(1,11)]\n",
    "for housenum, x, y in zip(housenum, xs, ys):\n",
    "    plt.annotate(\n",
    "        housenum, \n",
    "        xy = (x, y), xytext = (45, 0),\n",
    "        textcoords = 'offset points', ha = 'right', va = 'bottom',\n",
    "        bbox = dict(boxstyle = 'round,pad=0.3', fc = 'yellow', alpha = 0.5))"
   ]
  },
  {
   "cell_type": "code",
   "execution_count": null,
   "metadata": {
    "collapsed": true
   },
   "outputs": [],
   "source": []
  }
 ],
 "metadata": {
  "kernelspec": {
   "display_name": "Python 2",
   "language": "python",
   "name": "python2"
  },
  "language_info": {
   "codemirror_mode": {
    "name": "ipython",
    "version": 2
   },
   "file_extension": ".py",
   "mimetype": "text/x-python",
   "name": "python",
   "nbconvert_exporter": "python",
   "pygments_lexer": "ipython2",
   "version": "2.7.11"
  }
 },
 "nbformat": 4,
 "nbformat_minor": 0
}
