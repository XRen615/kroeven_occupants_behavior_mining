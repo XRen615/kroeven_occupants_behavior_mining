{
 "cells": [
  {
   "cell_type": "code",
   "execution_count": 29,
   "metadata": {
    "collapsed": false
   },
   "outputs": [],
   "source": [
    "import matplotlib.pyplot as plt\n",
    "%matplotlib inline\n",
    "import numpy as np\n",
    "import pandas as pd\n",
    "import seaborn as sns"
   ]
  },
  {
   "cell_type": "code",
   "execution_count": 30,
   "metadata": {
    "collapsed": false
   },
   "outputs": [],
   "source": [
    "ventpos = pd.read_csv(\"/Users/xinyuyangren/Desktop/Ventilation_Position/0100_ventpos.csv\")"
   ]
  },
  {
   "cell_type": "code",
   "execution_count": 31,
   "metadata": {
    "collapsed": false
   },
   "outputs": [],
   "source": [
    "#generate month/hour attribute from datetime string\n",
    "ventpos.date_trunc = pd.to_datetime(ventpos.date_trunc)\n",
    "t = pd.DatetimeIndex(ventpos.date_trunc)\n",
    "hr = t.hour\n",
    "ventpos['HourOfDay'] = hr\n",
    "month = t.month\n",
    "ventpos['Month'] = month"
   ]
  },
  {
   "cell_type": "code",
   "execution_count": 32,
   "metadata": {
    "collapsed": false
   },
   "outputs": [
    {
     "name": "stderr",
     "output_type": "stream",
     "text": [
      "/Users/xinyuyangren/anaconda/lib/python2.7/site-packages/ipykernel/__main__.py:3: SettingWithCopyWarning: \n",
      "A value is trying to be set on a copy of a slice from a DataFrame.\n",
      "Try using .loc[row_indexer,col_indexer] = value instead\n",
      "\n",
      "See the caveats in the documentation: http://pandas.pydata.org/pandas-docs/stable/indexing.html#indexing-view-versus-copy\n",
      "  app.launch_new_instance()\n",
      "/Users/xinyuyangren/anaconda/lib/python2.7/site-packages/ipykernel/__main__.py:5: SettingWithCopyWarning: \n",
      "A value is trying to be set on a copy of a slice from a DataFrame.\n",
      "Try using .loc[row_indexer,col_indexer] = value instead\n",
      "\n",
      "See the caveats in the documentation: http://pandas.pydata.org/pandas-docs/stable/indexing.html#indexing-view-versus-copy\n",
      "/Users/xinyuyangren/anaconda/lib/python2.7/site-packages/ipykernel/__main__.py:7: SettingWithCopyWarning: \n",
      "A value is trying to be set on a copy of a slice from a DataFrame.\n",
      "Try using .loc[row_indexer,col_indexer] = value instead\n",
      "\n",
      "See the caveats in the documentation: http://pandas.pydata.org/pandas-docs/stable/indexing.html#indexing-view-versus-copy\n"
     ]
    }
   ],
   "source": [
    "# Dividing the 4 seasons\n",
    "ventpos_Spring = ventpos[(ventpos.Month >= 3) & (ventpos.Month <= 5)]\n",
    "ventpos_Spring['Season']='Spring'\n",
    "ventpos_Summer = ventpos[(ventpos.Month >= 6) & (ventpos.Month <= 8)]\n",
    "ventpos_Summer['Season']='Summer'\n",
    "ventpos_Autumn = ventpos[(ventpos.Month >= 9) & (ventpos.Month <= 11)]\n",
    "ventpos_Autumn['Season']='Autumn'\n",
    "ventpos_Winter_1 = ventpos[(ventpos.Month == 12)]\n",
    "ventpos_Winter_2 = ventpos[(ventpos.Month <= 2)]      \n",
    "ventpos_Winter = pd.concat([ventpos_Winter_1,ventpos_Winter_2])\n",
    "ventpos_Winter['Season']='Winter'\n",
    "ventpos_seasons = pd.concat([ventpos_Spring,ventpos_Summer,ventpos_Autumn,ventpos_Winter])\n",
    "#Behav_Winter.to_csv('/Users/xinyuyangren/Desktop/0200_winter')"
   ]
  },
  {
   "cell_type": "code",
   "execution_count": 33,
   "metadata": {
    "collapsed": false
   },
   "outputs": [
    {
     "data": {
      "text/plain": [
       "Winter    5163\n",
       "Autumn    4406\n",
       "Summer    4398\n",
       "Spring    4389\n",
       "Name: Season, dtype: int64"
      ]
     },
     "execution_count": 33,
     "metadata": {},
     "output_type": "execute_result"
    }
   ],
   "source": [
    "ventpos_seasons.Season.value_counts()"
   ]
  },
  {
   "cell_type": "code",
   "execution_count": 34,
   "metadata": {
    "collapsed": false
   },
   "outputs": [
    {
     "name": "stdout",
     "output_type": "stream",
     "text": [
      "1.27979038505 1.82719417917 1.36427598729 1.08096068177\n"
     ]
    }
   ],
   "source": [
    "#Mean pulse break down by seasons\n",
    "avg1 = np.mean(ventpos_Spring['set_point_ventilation_unit'])\n",
    "avg2 = np.mean(ventpos_Summer['set_point_ventilation_unit'])\n",
    "avg3 = np.mean(ventpos_Autumn['set_point_ventilation_unit'])\n",
    "avg4 = np.mean(ventpos_Winter['set_point_ventilation_unit'])\n",
    "print avg1,avg2,avg3,avg4"
   ]
  },
  {
   "cell_type": "code",
   "execution_count": 36,
   "metadata": {
    "collapsed": false,
    "scrolled": false
   },
   "outputs": [
    {
     "data": {
      "text/plain": [
       "<matplotlib.legend.Legend at 0x10d74fd50>"
      ]
     },
     "execution_count": 36,
     "metadata": {},
     "output_type": "execute_result"
    },
    {
     "data": {
      "image/png": "[encoded data removed]",
      "text/plain": [
       "<matplotlib.figure.Figure at 0x10d74f590>"
      ]
     },
     "metadata": {},
     "output_type": "display_data"
    }
   ],
   "source": [
    "plt.figure(figsize=(12,8))\n",
    "seq = range (1,4)\n",
    "sns.countplot( x =\"set_point_ventilation_unit\",hue = \"Season\",data = ventpos_seasons,order = seq)\n",
    "plt.xlabel('Ventilation system flowrate pulse')\n",
    "#plt.ylim(0,70000)\n",
    "plt.title('Ventilation unit position count by seasons')\n",
    "plt.legend(loc = 'upper right')"
   ]
  }
 ],
 "metadata": {
  "kernelspec": {
   "display_name": "Python 2",
   "language": "python",
   "name": "python2"
  },
  "language_info": {
   "codemirror_mode": {
    "name": "ipython",
    "version": 2
   },
   "file_extension": ".py",
   "mimetype": "text/x-python",
   "name": "python",
   "nbconvert_exporter": "python",
   "pygments_lexer": "ipython2",
   "version": "2.7.11"
  }
 },
 "nbformat": 4,
 "nbformat_minor": 0
}
