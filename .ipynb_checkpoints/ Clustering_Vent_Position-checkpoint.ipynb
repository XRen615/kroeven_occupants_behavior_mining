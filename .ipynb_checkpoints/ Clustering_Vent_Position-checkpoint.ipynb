{
 "cells": [
  {
   "cell_type": "code",
   "execution_count": 3,
   "metadata": {
    "collapsed": false
   },
   "outputs": [],
   "source": [
    "import matplotlib.pyplot as plt\n",
    "%matplotlib inline\n",
    "import numpy as np\n",
    "import pandas as pd\n",
    "import seaborn as sns\n",
    "from sklearn.cluster import KMeans"
   ]
  },
  {
   "cell_type": "code",
   "execution_count": 4,
   "metadata": {
    "collapsed": false
   },
   "outputs": [
    {
     "data": {
      "text/html": [
       "<div>\n",
       "<table border=\"1\" class=\"dataframe\">\n",
       "  <thead>\n",
       "    <tr style=\"text-align: right;\">\n",
       "      <th></th>\n",
       "      <th>Spring</th>\n",
       "      <th>Summer</th>\n",
       "      <th>Autumn</th>\n",
       "      <th>Winter</th>\n",
       "      <th>Mean</th>\n",
       "      <th>Std</th>\n",
       "      <th>RSD</th>\n",
       "      <th>label</th>\n",
       "    </tr>\n",
       "  </thead>\n",
       "  <tbody>\n",
       "    <tr>\n",
       "      <th>1</th>\n",
       "      <td>1.269143</td>\n",
       "      <td>1.840712</td>\n",
       "      <td>1.388246</td>\n",
       "      <td>1.157090</td>\n",
       "      <td>1.413798</td>\n",
       "      <td>0.259679</td>\n",
       "      <td>0.183675</td>\n",
       "      <td>505</td>\n",
       "    </tr>\n",
       "    <tr>\n",
       "      <th>2</th>\n",
       "      <td>1.140858</td>\n",
       "      <td>1.747736</td>\n",
       "      <td>1.559982</td>\n",
       "      <td>1.201576</td>\n",
       "      <td>1.412538</td>\n",
       "      <td>0.251203</td>\n",
       "      <td>0.177838</td>\n",
       "      <td>505</td>\n",
       "    </tr>\n",
       "    <tr>\n",
       "      <th>3</th>\n",
       "      <td>1.169919</td>\n",
       "      <td>1.042120</td>\n",
       "      <td>1.243869</td>\n",
       "      <td>1.176142</td>\n",
       "      <td>1.158012</td>\n",
       "      <td>0.072926</td>\n",
       "      <td>0.062975</td>\n",
       "      <td>506</td>\n",
       "    </tr>\n",
       "    <tr>\n",
       "      <th>4</th>\n",
       "      <td>1.097683</td>\n",
       "      <td>1.882246</td>\n",
       "      <td>1.383242</td>\n",
       "      <td>1.001866</td>\n",
       "      <td>1.341259</td>\n",
       "      <td>0.342399</td>\n",
       "      <td>0.255281</td>\n",
       "      <td>505</td>\n",
       "    </tr>\n",
       "    <tr>\n",
       "      <th>5</th>\n",
       "      <td>1.000910</td>\n",
       "      <td>1.000000</td>\n",
       "      <td>1.003205</td>\n",
       "      <td>1.007874</td>\n",
       "      <td>1.002997</td>\n",
       "      <td>0.003048</td>\n",
       "      <td>0.003039</td>\n",
       "      <td>506</td>\n",
       "    </tr>\n",
       "    <tr>\n",
       "      <th>6</th>\n",
       "      <td>1.433641</td>\n",
       "      <td>1.956975</td>\n",
       "      <td>1.844780</td>\n",
       "      <td>1.231810</td>\n",
       "      <td>1.616801</td>\n",
       "      <td>0.295575</td>\n",
       "      <td>0.182815</td>\n",
       "      <td>505</td>\n",
       "    </tr>\n",
       "    <tr>\n",
       "      <th>7</th>\n",
       "      <td>1.008167</td>\n",
       "      <td>1.056159</td>\n",
       "      <td>1.020604</td>\n",
       "      <td>1.011111</td>\n",
       "      <td>1.024010</td>\n",
       "      <td>0.019122</td>\n",
       "      <td>0.018673</td>\n",
       "      <td>506</td>\n",
       "    </tr>\n",
       "    <tr>\n",
       "      <th>8</th>\n",
       "      <td>1.735584</td>\n",
       "      <td>1.378060</td>\n",
       "      <td>1.450549</td>\n",
       "      <td>1.668222</td>\n",
       "      <td>1.558104</td>\n",
       "      <td>0.147994</td>\n",
       "      <td>0.094983</td>\n",
       "      <td>506</td>\n",
       "    </tr>\n",
       "    <tr>\n",
       "      <th>9</th>\n",
       "      <td>1.114444</td>\n",
       "      <td>1.128740</td>\n",
       "      <td>1.059066</td>\n",
       "      <td>1.073148</td>\n",
       "      <td>1.093849</td>\n",
       "      <td>0.028635</td>\n",
       "      <td>0.026178</td>\n",
       "      <td>506</td>\n",
       "    </tr>\n",
       "    <tr>\n",
       "      <th>10</th>\n",
       "      <td>2.010974</td>\n",
       "      <td>2.000000</td>\n",
       "      <td>2.007326</td>\n",
       "      <td>1.988889</td>\n",
       "      <td>2.001797</td>\n",
       "      <td>0.008436</td>\n",
       "      <td>0.004214</td>\n",
       "      <td>505</td>\n",
       "    </tr>\n",
       "  </tbody>\n",
       "</table>\n",
       "</div>"
      ],
      "text/plain": [
       "      Spring    Summer    Autumn    Winter      Mean       Std       RSD  \\\n",
       "1   1.269143  1.840712  1.388246  1.157090  1.413798  0.259679  0.183675   \n",
       "2   1.140858  1.747736  1.559982  1.201576  1.412538  0.251203  0.177838   \n",
       "3   1.169919  1.042120  1.243869  1.176142  1.158012  0.072926  0.062975   \n",
       "4   1.097683  1.882246  1.383242  1.001866  1.341259  0.342399  0.255281   \n",
       "5   1.000910  1.000000  1.003205  1.007874  1.002997  0.003048  0.003039   \n",
       "6   1.433641  1.956975  1.844780  1.231810  1.616801  0.295575  0.182815   \n",
       "7   1.008167  1.056159  1.020604  1.011111  1.024010  0.019122  0.018673   \n",
       "8   1.735584  1.378060  1.450549  1.668222  1.558104  0.147994  0.094983   \n",
       "9   1.114444  1.128740  1.059066  1.073148  1.093849  0.028635  0.026178   \n",
       "10  2.010974  2.000000  2.007326  1.988889  2.001797  0.008436  0.004214   \n",
       "\n",
       "    label  \n",
       "1     505  \n",
       "2     505  \n",
       "3     506  \n",
       "4     505  \n",
       "5     506  \n",
       "6     505  \n",
       "7     506  \n",
       "8     506  \n",
       "9     506  \n",
       "10    505  "
      ]
     },
     "execution_count": 4,
     "metadata": {},
     "output_type": "execute_result"
    }
   ],
   "source": [
    "df = pd.read_excel('/Users/xinyuyangren/Desktop/Ventilation_Position/ventbyseasons_2013.xlsx')\n",
    "df"
   ]
  },
  {
   "cell_type": "code",
   "execution_count": 5,
   "metadata": {
    "collapsed": false
   },
   "outputs": [
    {
     "data": {
      "text/plain": [
       "(0.625, 11.125)"
      ]
     },
     "execution_count": 5,
     "metadata": {},
     "output_type": "execute_result"
    },
    {
     "data": {
      "image/png": "[encoded data removed]",
      "text/plain": [
       "<matplotlib.figure.Figure at 0x1109f0090>"
      ]
     },
     "metadata": {},
     "output_type": "display_data"
    }
   ],
   "source": [
    "#Stacked bar plot\n",
    "# Create the general blog and the \"subplots\" i.e. the bars\n",
    "f, ax1 = plt.subplots(1, figsize=(10,5))\n",
    "\n",
    "# Set the bar width\n",
    "bar_width = 0.75\n",
    "\n",
    "# positions of the left bar-boundaries\n",
    "bar_l = [i+1 for i in range(len(df['Spring']))]\n",
    "\n",
    "# positions of the x-axis ticks (center of the bars as bar labels)\n",
    "tick_pos = [i+(bar_width/2) for i in bar_l]\n",
    "\n",
    "# Create a bar plot, in position bar_1\n",
    "ax1.bar(bar_l,\n",
    "        # using the pre_score data\n",
    "        df['Spring'],\n",
    "        # set the width\n",
    "        width=bar_width,\n",
    "        # with the label pre score\n",
    "        label='Spring',\n",
    "        # with alpha 0.5\n",
    "        alpha=0.5,\n",
    "        # with color\n",
    "        color='#F4561D')\n",
    "\n",
    "# Create a bar plot, in position bar_1\n",
    "ax1.bar(bar_l,\n",
    "        # using the mid_score data\n",
    "        df['Summer'],\n",
    "        # set the width\n",
    "        width=bar_width,\n",
    "        # with pre_score on the bottom\n",
    "        bottom=df['Spring'],\n",
    "        # with the label mid score\n",
    "        label='Summer',\n",
    "        # with alpha 0.5\n",
    "        alpha=0.5,\n",
    "        # with color\n",
    "        color='#F1911E')\n",
    "\n",
    "# Create a bar plot, in position bar_1\n",
    "ax1.bar(bar_l,\n",
    "        # using the post_score data\n",
    "        df['Autumn'],\n",
    "        # set the width\n",
    "        width=bar_width,\n",
    "        # with pre_score and mid_score on the bottom\n",
    "        bottom=[i+j for i,j in zip(df['Spring'],df['Summer'])],\n",
    "        # with the label post score\n",
    "        label='Autumn',\n",
    "        # with alpha 0.5\n",
    "        alpha=0.5,\n",
    "        # with color\n",
    "        color='#F1BD1A')\n",
    "\n",
    "# Create a bar plot, in position bar_1\n",
    "ax1.bar(bar_l,\n",
    "        # using the post_score data\n",
    "        df['Winter'],\n",
    "        # set the width\n",
    "        width=bar_width,\n",
    "        # with pre_score and mid_score on the bottom\n",
    "        bottom=[i+j+k for i,j,k in zip(df['Spring'],df['Summer'],df['Autumn'])],\n",
    "        # with the label post score\n",
    "        label='Winter',\n",
    "        # with alpha 0.5\n",
    "        alpha=0.5,\n",
    "        # with color\n",
    "        color='k')\n",
    "# set the x ticks with names\n",
    "plt.xticks(tick_pos, df.index)\n",
    "\n",
    "# Set the label and legends\n",
    "ax1.set_ylabel(\"Ventilation flowrate pulse (stacked)\")\n",
    "ax1.set_xlabel(\"House no\")\n",
    "plt.legend(loc='upper left')\n",
    "plt.title('Ventilation flowrate (stacked): season breakdown')\n",
    "\n",
    "# Set a buffer around the edge\n",
    "plt.xlim([min(tick_pos)-bar_width, max(tick_pos)+bar_width])"
   ]
  },
  {
   "cell_type": "code",
   "execution_count": 4,
   "metadata": {
    "collapsed": false
   },
   "outputs": [
    {
     "data": {
      "text/html": [
       "<div>\n",
       "<table border=\"1\" class=\"dataframe\">\n",
       "  <thead>\n",
       "    <tr style=\"text-align: right;\">\n",
       "      <th></th>\n",
       "      <th>Mean</th>\n",
       "      <th>Std</th>\n",
       "    </tr>\n",
       "  </thead>\n",
       "  <tbody>\n",
       "    <tr>\n",
       "      <th>1</th>\n",
       "      <td>5.342845</td>\n",
       "      <td>0.425931</td>\n",
       "    </tr>\n",
       "    <tr>\n",
       "      <th>2</th>\n",
       "      <td>5.377627</td>\n",
       "      <td>0.338362</td>\n",
       "    </tr>\n",
       "    <tr>\n",
       "      <th>3</th>\n",
       "      <td>1.913772</td>\n",
       "      <td>0.142464</td>\n",
       "    </tr>\n",
       "    <tr>\n",
       "      <th>4</th>\n",
       "      <td>4.550498</td>\n",
       "      <td>0.468256</td>\n",
       "    </tr>\n",
       "    <tr>\n",
       "      <th>5</th>\n",
       "      <td>2.971938</td>\n",
       "      <td>0.203741</td>\n",
       "    </tr>\n",
       "    <tr>\n",
       "      <th>6</th>\n",
       "      <td>6.052751</td>\n",
       "      <td>0.351449</td>\n",
       "    </tr>\n",
       "    <tr>\n",
       "      <th>7</th>\n",
       "      <td>3.217222</td>\n",
       "      <td>0.337190</td>\n",
       "    </tr>\n",
       "    <tr>\n",
       "      <th>8</th>\n",
       "      <td>4.096760</td>\n",
       "      <td>0.233816</td>\n",
       "    </tr>\n",
       "    <tr>\n",
       "      <th>9</th>\n",
       "      <td>2.590573</td>\n",
       "      <td>0.074956</td>\n",
       "    </tr>\n",
       "    <tr>\n",
       "      <th>10</th>\n",
       "      <td>10.315631</td>\n",
       "      <td>0.326522</td>\n",
       "    </tr>\n",
       "  </tbody>\n",
       "</table>\n",
       "</div>"
      ],
      "text/plain": [
       "         Mean       Std\n",
       "1    5.342845  0.425931\n",
       "2    5.377627  0.338362\n",
       "3    1.913772  0.142464\n",
       "4    4.550498  0.468256\n",
       "5    2.971938  0.203741\n",
       "6    6.052751  0.351449\n",
       "7    3.217222  0.337190\n",
       "8    4.096760  0.233816\n",
       "9    2.590573  0.074956\n",
       "10  10.315631  0.326522"
      ]
     },
     "execution_count": 4,
     "metadata": {},
     "output_type": "execute_result"
    }
   ],
   "source": [
    "data = df[['Mean','Std']]\n",
    "#data = data.drop(data.index[[5,7]])#drop the rows with too small means\n",
    "data"
   ]
  },
  {
   "cell_type": "code",
   "execution_count": 5,
   "metadata": {
    "collapsed": false
   },
   "outputs": [],
   "source": [
    "from sklearn.preprocessing import scale\n",
    "data = scale(data)"
   ]
  },
  {
   "cell_type": "code",
   "execution_count": 9,
   "metadata": {
    "collapsed": false
   },
   "outputs": [
    {
     "data": {
      "text/plain": [
       "KMeans(copy_x=True, init='k-means++', max_iter=300, n_clusters=3, n_init=10,\n",
       "    n_jobs=1, precompute_distances='auto', random_state=None, tol=0.0001,\n",
       "    verbose=0)"
      ]
     },
     "execution_count": 9,
     "metadata": {},
     "output_type": "execute_result"
    }
   ],
   "source": [
    "estimator = KMeans(n_clusters=3)\n",
    "estimator.fit(data)"
   ]
  },
  {
   "cell_type": "code",
   "execution_count": 10,
   "metadata": {
    "collapsed": false
   },
   "outputs": [
    {
     "name": "stdout",
     "output_type": "stream",
     "text": [
      "[1 1 0 1 0 1 1 0 0 2]\n"
     ]
    }
   ],
   "source": [
    "labels = estimator.labels_\n",
    "print estimator.labels_"
   ]
  },
  {
   "cell_type": "code",
   "execution_count": 12,
   "metadata": {
    "collapsed": false
   },
   "outputs": [
    {
     "data": {
      "image/png": "[encoded data removed]",
      "text/plain": [
       "<matplotlib.figure.Figure at 0x10cc137d0>"
      ]
     },
     "metadata": {},
     "output_type": "display_data"
    }
   ],
   "source": [
    "xs = data[:,0]\n",
    "ys = data[:,1]\n",
    "plt.figure(figsize=(10,8))\n",
    "for i in range(0, len(labels)):\n",
    "    if labels[i] == 0:\n",
    "        c1 = plt.scatter(xs[i],ys[i],c='r',marker='o',s = 8*8)\n",
    "    elif labels[i] == 1:\n",
    "        c2 = plt.scatter(xs[i],ys[i],c='k',marker='x',s = 8*8)\n",
    "    elif labels[i] == 2:\n",
    "        c3 = plt.scatter(xs[i],ys[i],c='b',marker='*',s = 8*8)\n",
    "    elif labels[i] == 3:\n",
    "        c4 = plt.scatter(xs[i],ys[i],c='m',marker='^',s = 8*8)\n",
    "plt.legend([c1, c2, c3], ['Low ventilation flow rate/Low inter season variation', 'Medium ventilation flow rate/High inter season variation','High open duration/Medium inter season variation'])\n",
    "plt.xlabel('Scaled index of mean ventilation flow rate')\n",
    "plt.ylabel('Scaled index of seasonal relative standard deviation (RSD)')\n",
    "plt.title('Clustering of ventilation system flow rate')\n",
    "\n",
    "housenum = ['House{0}'.format(i) for i in range(1,11)]\n",
    "for housenum, x, y in zip(housenum, xs, ys):\n",
    "    plt.annotate(\n",
    "        housenum, \n",
    "        xy = (x, y), xytext = (45, 0),\n",
    "        textcoords = 'offset points', ha = 'right', va = 'bottom',\n",
    "        bbox = dict(boxstyle = 'round,pad=0.3', fc = 'yellow', alpha = 0.5))"
   ]
  },
  {
   "cell_type": "code",
   "execution_count": null,
   "metadata": {
    "collapsed": true
   },
   "outputs": [],
   "source": []
  }
 ],
 "metadata": {
  "kernelspec": {
   "display_name": "Python 2",
   "language": "python",
   "name": "python2"
  },
  "language_info": {
   "codemirror_mode": {
    "name": "ipython",
    "version": 2
   },
   "file_extension": ".py",
   "mimetype": "text/x-python",
   "name": "python",
   "nbconvert_exporter": "python",
   "pygments_lexer": "ipython2",
   "version": "2.7.11"
  }
 },
 "nbformat": 4,
 "nbformat_minor": 0
}
